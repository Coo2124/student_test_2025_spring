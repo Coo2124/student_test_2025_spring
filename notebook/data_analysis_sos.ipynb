{
 "cells": [
  {
   "cell_type": "markdown",
   "id": "c6b74ae1-ebe3-49d4-8fcb-e7885d5c4aa7",
   "metadata": {
    "kernel": "SoS",
    "tags": []
   },
   "source": [
    "# Overview\n",
    "\n",
    "[Script of Scripts (SoS)](https://vatlab.github.io/sos-docs/index.html#content) is a scripting language designed for the execution of workflows that involve the analysis of data in multiple languages.\n",
    "\n",
    "\n",
    "It is a web-based notebook environment that allows the use of multiple scripting language in a single notebook, with data flowing freely within and across languages. SoS Notebook enables researchers to perform sophisticated bioinformatic analysis using the most suitable tools for different parts of the workflow, without the limitations of a particular language or complications of cross-language communications. If you are interested in `SoS`, you can read more about it in [this paper](https://academic.oup.com/bioinformatics/article/34/21/3768/5001386).\n",
    "\n",
    "In this notebook, you will explore some basic functions of `sos` in the analysis of UK Biobank, based on a simulated dataset. Before you start, first make sure that the general kernel for this notebook is in SoS (on the top right corner, you can select the SoS kernel after installation), and in each cell, you should choose the correct kernel (in the scroll-down list you should see at least three options `Python`, `R`, `SoS`).\n",
    "\n",
    "Please follow the instructions throughout this notebook and run all the cells. Add cells under each question (in `Python`, `SoS` or `markdown`) to answer.\n"
   ]
  },
  {
   "cell_type": "markdown",
   "id": "8a6dbb05-9d59-4fe2-ab1d-a0cf6e55e6fd",
   "metadata": {
    "kernel": "SoS"
   },
   "source": [
    "# Intro -- set up"
   ]
  },
  {
   "cell_type": "code",
   "execution_count": 10,
   "id": "04d04086-3310-41f1-a2eb-f8c7e46ed2e9",
   "metadata": {
    "kernel": "SoS"
   },
   "outputs": [
    {
     "name": "stdout",
     "output_type": "stream",
     "text": [
      "hello world!\n"
     ]
    }
   ],
   "source": [
    "# set the kernel of this cell as SoS\n",
    "print(\"hello world!\")"
   ]
  },
  {
   "cell_type": "code",
   "execution_count": 11,
   "id": "803fc49f-c5d2-4816-b8ca-94b15b047d61",
   "metadata": {
    "kernel": "Python3",
    "tags": []
   },
   "outputs": [
    {
     "name": "stdout",
     "output_type": "stream",
     "text": [
      "hello world!\n"
     ]
    }
   ],
   "source": [
    "# set the kernel of this cell as Python\n",
    "print(\"hello world!\")"
   ]
  },
  {
   "cell_type": "markdown",
   "id": "3c3d490d-d073-468d-b887-2a6bea14dc01",
   "metadata": {
    "kernel": "Python3"
   },
   "source": [
    "You see they give you the same result. So you can write in python directly in a sos cell. Before we start any analysis, let's import the packages required first."
   ]
  },
  {
   "cell_type": "code",
   "execution_count": 12,
   "id": "ea14e46d-a23b-4493-9e3b-7e53665fc8e6",
   "metadata": {
    "kernel": "Python3",
    "tags": []
   },
   "outputs": [],
   "source": [
    "import numpy as np # linear algebra\n",
    "import pandas as pd # data processing, CSV file I/O (e.g. pd.read_csv)\n",
    "\n",
    "import seaborn as sns # pretty plotting, similar to ggplot2\n",
    "import matplotlib.pyplot as plt # base plots\n",
    "\n",
    "import statsmodels.api as sm # similar to glm() in R\n",
    "import statsmodels.formula.api as smf\n",
    "\n",
    "from scipy.stats import norm\n",
    "from scipy.stats import t\n",
    "from sklearn.preprocessing import scale"
   ]
  },
  {
   "cell_type": "markdown",
   "id": "7c481dd0-531b-4220-bd4c-24f006048b46",
   "metadata": {
    "kernel": "Python3"
   },
   "source": [
    "If you have something reporting `No module named 'xxxx'` that means it is not installed. Please refer to [this page](https://mamba.readthedocs.io/en/latest/user_guide/micromamba.html) to install the modules required under micromamba. Otherwise you can install them using `conda`."
   ]
  },
  {
   "cell_type": "markdown",
   "id": "90d9ba1a-2af3-44d1-a6ad-ef8b2cae7318",
   "metadata": {
    "kernel": "Python3"
   },
   "source": [
    "# Download the toy data and preview\n",
    "\n",
    "Please download the data under `data/toy_data.tsv` and import it in python."
   ]
  },
  {
   "cell_type": "code",
   "execution_count": 13,
   "id": "a0f48fbf-568c-44c8-91c5-1bd7a3076714",
   "metadata": {
    "kernel": "Python3"
   },
   "outputs": [
    {
     "data": {
      "text/html": [
       "<div>\n",
       "<style scoped>\n",
       "    .dataframe tbody tr th:only-of-type {\n",
       "        vertical-align: middle;\n",
       "    }\n",
       "\n",
       "    .dataframe tbody tr th {\n",
       "        vertical-align: top;\n",
       "    }\n",
       "\n",
       "    .dataframe thead th {\n",
       "        text-align: right;\n",
       "    }\n",
       "</style>\n",
       "<table border=\"1\" class=\"dataframe\">\n",
       "  <thead>\n",
       "    <tr style=\"text-align: right;\">\n",
       "      <th></th>\n",
       "      <th>ID</th>\n",
       "      <th>f.31.0.0</th>\n",
       "      <th>f.33.0.0</th>\n",
       "      <th>f.42009.0.0</th>\n",
       "      <th>f.42007.0.0</th>\n",
       "    </tr>\n",
       "  </thead>\n",
       "  <tbody>\n",
       "    <tr>\n",
       "      <th>0</th>\n",
       "      <td>633627</td>\n",
       "      <td>0</td>\n",
       "      <td>1966-10-26</td>\n",
       "      <td>NaN</td>\n",
       "      <td>NaN</td>\n",
       "    </tr>\n",
       "    <tr>\n",
       "      <th>1</th>\n",
       "      <td>542438</td>\n",
       "      <td>0</td>\n",
       "      <td>1962-08-23</td>\n",
       "      <td>NaN</td>\n",
       "      <td>NaN</td>\n",
       "    </tr>\n",
       "    <tr>\n",
       "      <th>2</th>\n",
       "      <td>727287</td>\n",
       "      <td>1</td>\n",
       "      <td>1966-02-14</td>\n",
       "      <td>NaN</td>\n",
       "      <td>NaN</td>\n",
       "    </tr>\n",
       "    <tr>\n",
       "      <th>3</th>\n",
       "      <td>355926</td>\n",
       "      <td>1</td>\n",
       "      <td>1951-06-24</td>\n",
       "      <td>NaN</td>\n",
       "      <td>NaN</td>\n",
       "    </tr>\n",
       "    <tr>\n",
       "      <th>4</th>\n",
       "      <td>714555</td>\n",
       "      <td>0</td>\n",
       "      <td>1952-06-02</td>\n",
       "      <td>NaN</td>\n",
       "      <td>NaN</td>\n",
       "    </tr>\n",
       "  </tbody>\n",
       "</table>\n",
       "</div>"
      ],
      "text/plain": [
       "       ID  f.31.0.0    f.33.0.0  f.42009.0.0  f.42007.0.0\n",
       "0  633627         0  1966-10-26          NaN          NaN\n",
       "1  542438         0  1962-08-23          NaN          NaN\n",
       "2  727287         1  1966-02-14          NaN          NaN\n",
       "3  355926         1  1951-06-24          NaN          NaN\n",
       "4  714555         0  1952-06-02          NaN          NaN"
      ]
     },
     "execution_count": 13,
     "metadata": {},
     "output_type": "execute_result"
    }
   ],
   "source": [
    "bd = pd.read_table(\"~/student_test_2024/data/toy_data.tsv\", low_memory=False)\n",
    "bd.head()"
   ]
  },
  {
   "cell_type": "markdown",
   "id": "9b17c913-81ed-4812-a9a5-0322b0f29d0d",
   "metadata": {
    "kernel": "Python3"
   },
   "source": [
    "You can also view it in SoS using the Magic [`%preview`](https://vatlab.github.io/sos-docs/doc/user_guide/magic_preview.html):"
   ]
  },
  {
   "cell_type": "code",
   "execution_count": 16,
   "id": "168710e8-f9ed-4a3d-845c-31b90b9ec2ee",
   "metadata": {
    "kernel": "SoS",
    "tags": []
   },
   "outputs": [
    {
     "data": {
      "text/html": [
       "<div class=\"sos_hint\">> /home/rd2972/student_test_2024/data/toy_data.tsv (2.5 MiB):</div>"
      ],
      "text/plain": [
       "\n",
       "> /home/rd2972/student_test_2024/data/toy_data.tsv (2.5 MiB):"
      ]
     },
     "metadata": {},
     "output_type": "display_data"
    },
    {
     "data": {
      "text/html": [
       "<div class=\"sos_hint\">100001 lines (5 displayed, see --limit)</div>"
      ]
     },
     "metadata": {},
     "output_type": "display_data"
    },
    {
     "name": "stdout",
     "output_type": "stream",
     "text": [
      "ID\tf.31.0.0\tf.33.0.0\tf.42009.0.0\tf.42007.0.0\n",
      "633627\t0\t1966-10-26\tNA\tNA\n",
      "542438\t0\t1962-08-23\tNA\tNA\n",
      "727287\t1\t1966-02-14\tNA\tNA\n",
      "355926\t1\t1951-06-24\tNA\tNA"
     ]
    }
   ],
   "source": [
    "# set the kernel of this cell as SoS\n",
    "%preview -n \"~/student_test_2024/data/toy_data.tsv\""
   ]
  },
  {
   "cell_type": "markdown",
   "id": "027bb8fd-d451-41ff-8db9-ec1d4085d278",
   "metadata": {
    "kernel": "Python3"
   },
   "source": [
    "# Explore the \"first occurence\" phenotypes"
   ]
  },
  {
   "cell_type": "markdown",
   "id": "ca7a7b3a-9ad7-410d-aec2-6c7a947b4f85",
   "metadata": {
    "kernel": "Python3"
   },
   "source": [
    "As you can see, the raw data are not very easy to understand!\n",
    "\n",
    "The first thing you want to understand is the column names, which we can do by searching in the UK Biobank [Showcase](https://biobank.ndph.ox.ac.uk/showcase/index.cgi). For example, search `31` and then you will see it actually represents [sex](https://biobank.ndph.ox.ac.uk/showcase/field.cgi?id=31). Please read more into the data-coding of it (and other columns) and answer the following questions."
   ]
  },
  {
   "cell_type": "markdown",
   "id": "4bd745f9-58d8-4533-ac07-54c4a70872e9",
   "metadata": {
    "kernel": "SoS"
   },
   "source": [
    "**Question 1: how many females and males are in the toy data? What's the average age of all females now (as up to Jan-01-2024)?**"
   ]
  },
  {
   "cell_type": "markdown",
   "id": "424effe8-733e-4fe7-b9b9-0a7ced865a17",
   "metadata": {
    "kernel": "SoS"
   },
   "source": [
    "**Answer:**"
   ]
  },
  {
   "cell_type": "code",
   "execution_count": null,
   "id": "86092eb2-a356-404c-834d-45370ff4458d",
   "metadata": {
    "kernel": "SoS"
   },
   "outputs": [],
   "source": [
    "\n",
    "\n",
    "\n",
    "The easiest place to start is with the UK Biobank's pre-processed \"[first occurence](https://biobank.ndph.ox.ac.uk/showcase/refer.cgi?id=593)\" disease phenotypes. These phenotypes have been generated from all the sources listed above, and are encoded by 3-character [ICD-10 codes](https://icd.who.int/browse10/2019/en), which are a widely used international standard for cataloguing human diseases. Each disease (specified by an ICD-10 code) is encoded in two fields: one with the data source where the first occurence was observed (encoding described [here](https://biobank.ndph.ox.ac.uk/showcase/coding.cgi?id=2171)), and another with the date when that event happened.\n",
    "\n",
    "The first thing we need to do is identify which fields correspond to our disease of interest, which we can do by search the UK Biobank [Showcase](https://biobank.ndph.ox.ac.uk/showcase/index.cgi). For example, searching for \"crohn's disease\" reveals that field 131626 contains the date of the first reported diagnosis and 131627 contains the source where the diagnosis was reported.\n",
    "\n",
    "Let's first rename the columns containing the first reported occurrence source and date for Crohn's disease (CD) and ulcerative colitis (UC) into human readable names and use those to explore the data."
   ]
  }
 ],
 "metadata": {
  "kernelspec": {
   "display_name": "SoS",
   "language": "sos",
   "name": "sos"
  },
  "language_info": {
   "codemirror_mode": "sos",
   "file_extension": ".sos",
   "mimetype": "text/x-sos",
   "name": "sos",
   "nbconvert_exporter": "sos_notebook.converter.SoS_Exporter",
   "pygments_lexer": "sos"
  },
  "sos": {
   "kernels": [
    [
     "Python3",
     "python3",
     "Python3",
     "#FFD91A",
     ""
    ],
    [
     "SoS",
     "sos",
     "",
     "",
     "sos"
    ]
   ],
   "version": "0.24.3"
  }
 },
 "nbformat": 4,
 "nbformat_minor": 5
}
