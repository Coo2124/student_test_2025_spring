{
 "cells": [
  {
   "cell_type": "markdown",
   "id": "7fee0a8a-bc09-4a55-8dfc-d3ce30fa12d5",
   "metadata": {},
   "source": [
    "# Overview\n",
    "\n",
    "This notebook is to generate the test dataset for the UKBB analysis."
   ]
  },
  {
   "cell_type": "code",
   "execution_count": 92,
   "id": "f71456e2-a55e-435d-a55a-5d5b8599dda3",
   "metadata": {
    "tags": []
   },
   "outputs": [],
   "source": [
    "library(readr)\n",
    "library(dplyr, warn.conflicts = FALSE)\n",
    "library(ggplot2)\n",
    "library(DT)\n",
    "library(tidyr)\n",
    "library(gtools)\n",
    "library(knitr)"
   ]
  },
  {
   "cell_type": "code",
   "execution_count": 93,
   "id": "2848f91d-5409-4064-8567-a8169265726f",
   "metadata": {
    "tags": []
   },
   "outputs": [],
   "source": [
    "N = 100000\n",
    "\n",
    "# Generate 6-digit random ID numbers\n",
    "id_numbers <- sample(100000:999999, N, replace = FALSE)\n",
    "\n",
    "# Generate sex information (0 or 1)\n",
    "sex <- sample(0:1, N, replace = TRUE)\n",
    "\n",
    "dob <- as.Date(runif(N, 50, 80) * 365, origin = \"1895-01-01\")\n",
    "\n",
    "# Create a data frame\n",
    "toy_data <- data.frame(ID = id_numbers, Sex = sex, DOB = dob)\n",
    "\n",
    "# Generate \"f.42009\" column based on the specified distribution\n",
    "toy_data$f.42009 <- 0\n",
    "\n",
    "# Assign NA to 95% of the population\n",
    "toy_data$f.42009[sample(1:N, N*0.95, replace = FALSE)] <- NA\n",
    "\n",
    "# Assign 11 to 85% of the remaining 5%\n",
    "toy_data$f.42009[sample(which(is.na(toy_data$f.42009)), N*0.05*0.85, replace = FALSE)] <- 11\n",
    "\n",
    "# Assign 21 to 5% of the remaining 5%\n",
    "toy_data$f.42009[sample(which(is.na(toy_data$f.42009)), N*0.05*0.10, replace = FALSE)] <- 21\n",
    "\n",
    "# Assign other numbers to the remaining individuals\n",
    "remaining_inds <- which(toy_data$f.42009==0)\n",
    "toy_data$f.42009[sample(remaining_inds, length(remaining_inds), replace = TRUE)] <- sample(c(0, 1, 2, 12, 22), length(remaining_inds), replace = TRUE)\n",
    "toy_data$f.42009 <- as.character(toy_data$f.42009)\n",
    "toy_data<- toy_data %>%\n",
    "    mutate(f.42009.isvalid = ifelse(is.na(f.42009), 0, 1))\n"
   ]
  },
  {
   "cell_type": "code",
   "execution_count": 94,
   "id": "cab7fb76-f1c1-4f1d-ac0b-1ffb7d327548",
   "metadata": {
    "tags": []
   },
   "outputs": [],
   "source": [
    "# Function to generate correlated values\n",
    "generate_correlated_values <- function(input_values, correlation_value) {\n",
    "  n <- length(input_values)\n",
    "  z <- rnorm(n)\n",
    "  y <- correlation_value * input_values + sqrt(1 - correlation_value^2) * z\n",
    "  return(pmax(pmin(y, max(input_values)), min(input_values)))\n",
    "}\n",
    "\n",
    "# Generate \"f.42007\" column based on the correlation with \"f.42009\"\n",
    "toy_data$f.42007.isvalid <- generate_correlated_values(as.numeric(toy_data$f.42009.isvalid), correlation_value)\n",
    "toy_data$f.42007.tmp <- rbinom(nrow(toy_data), 1, toy_data$f.42007.isvalid)"
   ]
  },
  {
   "cell_type": "code",
   "execution_count": 95,
   "id": "f52341ea-c10f-4564-ac21-86c89de9a15d",
   "metadata": {
    "tags": []
   },
   "outputs": [],
   "source": [
    "# Assuming 'toy_data' is your data frame and 'f.42007.tmp' is your binary column\n",
    "toy_data$f.42007 <- ifelse(toy_data$f.42007.tmp == 0, NA, \n",
    "                           ifelse(toy_data$f.42007.tmp == 1, \n",
    "                                  sample(c(0, 1, 2, 11, 12, 21, 22), sum(toy_data$f.42007.tmp == 1), \n",
    "                                         replace = TRUE, prob = c(0.01, 0.02, 0.03, 0.85, 0.01, 0.10, 0.01)),\n",
    "                                  NA))"
   ]
  },
  {
   "cell_type": "code",
   "execution_count": null,
   "id": "7afec0e9-2512-4ab0-bc43-81c4b008db54",
   "metadata": {
    "tags": []
   },
   "outputs": [],
   "source": [
    "toy_data <- toy_data %>% select(ID, Sex, DOB, f.42009, f.42007) %>%\n",
    "    rename(f.31.0.0 = Sex, f.33.0.0 = DOB, f.42009.0.0 = f.42009, f.42007.0.0=f.42007)\n",
    "   "
   ]
  },
  {
   "cell_type": "code",
   "execution_count": 100,
   "id": "233d4a71-f2ba-4abf-b5a1-77a8795644b8",
   "metadata": {
    "tags": []
   },
   "outputs": [],
   "source": [
    "write.table(toy_data, file = \"~/student_test_2024/data/toy_data.tsv\", sep = \"\\t\", quote = FALSE, row.names = FALSE)\n"
   ]
  },
  {
   "cell_type": "code",
   "execution_count": null,
   "id": "2c7c2a42-0926-4499-8451-de3341936c8c",
   "metadata": {},
   "outputs": [],
   "source": []
  }
 ],
 "metadata": {
  "kernelspec": {
   "display_name": "R",
   "language": "R",
   "name": "ir"
  },
  "language_info": {
   "codemirror_mode": "r",
   "file_extension": ".r",
   "mimetype": "text/x-r-source",
   "name": "R",
   "pygments_lexer": "r",
   "version": "4.3.1"
  }
 },
 "nbformat": 4,
 "nbformat_minor": 5
}
