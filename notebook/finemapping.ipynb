{
 "cells": [
  {
   "cell_type": "markdown",
   "id": "75a7af4b",
   "metadata": {},
   "source": [
    "# Overview\n",
    "\n",
    "This fine-mapping tutorial was developed using simulated data shipped with [`susieR`](https://github.com/stephenslab/susieR) package.\n",
    "The simulated data contains simulated phenotype matrix $Y$ in $N \\approx 600$ individuals. \n",
    "The goal is to identify from the genotype matrix $X_{N\\times P}$ ($P=1000$) the genetic variables that directly cause changes in the phenotypic values.\n",
    "\n",
    "**There are several questions throughout the notebook, and please answer each of them by adding cells (in Markdown or R) under the question and keep the code you use there as well.**"
   ]
  },
  {
   "cell_type": "markdown",
   "id": "13ba1be7",
   "metadata": {},
   "source": [
    "The simulated data-set is [available\n",
    "here](https://github.com/stephenslab/susieR/blob/master/data/N3finemapping.RData),\n",
    "as part of the `susieR` package. In this tutorial we will first explore the data with conventional univariate association analysis,\n",
    "then perform preliminary fine-mapping analysis under simplified \n",
    "assumptions to illustrate the idea of statistical fine-mapping, and finally use the R package `susieR` to perform formal Bayesian fine-mapping analysis.\n",
    "We will also discuss fine-mapping using association summary statistics."
   ]
  },
  {
   "cell_type": "markdown",
   "id": "23958c0d",
   "metadata": {},
   "source": [
    "# Explore the association data-set\n",
    "\n",
    "Please execute the following code cell to load the simulated data."
   ]
  },
  {
   "cell_type": "code",
   "execution_count": 33,
   "id": "784e4004",
   "metadata": {
    "tags": []
   },
   "outputs": [
    {
     "name": "stderr",
     "output_type": "stream",
     "text": [
      "The following objects are masked from N3finemapping (pos = 3):\n",
      "\n",
      "    allele_freq, chrom, pos, residual_variance, true_coef, V, X, Y\n",
      "\n",
      "\n"
     ]
    }
   ],
   "source": [
    "rm(list=ls())\n",
    "library(susieR)\n",
    "data(N3finemapping)\n",
    "attach(N3finemapping)"
   ]
  },
  {
   "cell_type": "code",
   "execution_count": 34,
   "id": "8abce956",
   "metadata": {
    "tags": []
   },
   "outputs": [
    {
     "data": {
      "text/html": [
       "'N3finemapping'"
      ],
      "text/latex": [
       "'N3finemapping'"
      ],
      "text/markdown": [
       "'N3finemapping'"
      ],
      "text/plain": [
       "[1] \"N3finemapping\""
      ]
     },
     "metadata": {},
     "output_type": "display_data"
    }
   ],
   "source": [
    "ls()"
   ]
  },
  {
   "cell_type": "markdown",
   "id": "2bf71300",
   "metadata": {},
   "source": [
    "The loaded dataset, `N3finemapping`, contains regression data $X$ and $Y$, \n",
    "along with some other relevant attributes in the context of genetic studies. It also\n",
    "contains the \"true\" regression coefficients the data is simulated from."
   ]
  },
  {
   "cell_type": "code",
   "execution_count": 35,
   "id": "a3071f4a",
   "metadata": {
    "tags": []
   },
   "outputs": [
    {
     "data": {
      "text/html": [
       "<style>\n",
       ".list-inline {list-style: none; margin:0; padding: 0}\n",
       ".list-inline>li {display: inline-block}\n",
       ".list-inline>li:not(:last-child)::after {content: \"\\00b7\"; padding: 0 .5ex}\n",
       "</style>\n",
       "<ol class=list-inline><li>'X'</li><li>'chrom'</li><li>'pos'</li><li>'true_coef'</li><li>'residual_variance'</li><li>'Y'</li><li>'allele_freq'</li><li>'V'</li></ol>\n"
      ],
      "text/latex": [
       "\\begin{enumerate*}\n",
       "\\item 'X'\n",
       "\\item 'chrom'\n",
       "\\item 'pos'\n",
       "\\item 'true\\_coef'\n",
       "\\item 'residual\\_variance'\n",
       "\\item 'Y'\n",
       "\\item 'allele\\_freq'\n",
       "\\item 'V'\n",
       "\\end{enumerate*}\n"
      ],
      "text/markdown": [
       "1. 'X'\n",
       "2. 'chrom'\n",
       "3. 'pos'\n",
       "4. 'true_coef'\n",
       "5. 'residual_variance'\n",
       "6. 'Y'\n",
       "7. 'allele_freq'\n",
       "8. 'V'\n",
       "\n",
       "\n"
      ],
      "text/plain": [
       "[1] \"X\"                 \"chrom\"             \"pos\"              \n",
       "[4] \"true_coef\"         \"residual_variance\" \"Y\"                \n",
       "[7] \"allele_freq\"       \"V\"                "
      ]
     },
     "metadata": {},
     "output_type": "display_data"
    }
   ],
   "source": [
    "names(N3finemapping)"
   ]
  },
  {
   "cell_type": "code",
   "execution_count": 36,
   "id": "2840032b-6ca3-40fc-a4d7-5f10933075dc",
   "metadata": {
    "tags": []
   },
   "outputs": [
    {
     "data": {
      "text/html": [
       "<style>\n",
       ".list-inline {list-style: none; margin:0; padding: 0}\n",
       ".list-inline>li {display: inline-block}\n",
       ".list-inline>li:not(:last-child)::after {content: \"\\00b7\"; padding: 0 .5ex}\n",
       "</style>\n",
       "<ol class=list-inline><li>574</li><li>1001</li></ol>\n"
      ],
      "text/latex": [
       "\\begin{enumerate*}\n",
       "\\item 574\n",
       "\\item 1001\n",
       "\\end{enumerate*}\n"
      ],
      "text/markdown": [
       "1. 574\n",
       "2. 1001\n",
       "\n",
       "\n"
      ],
      "text/plain": [
       "[1]  574 1001"
      ]
     },
     "metadata": {},
     "output_type": "display_data"
    },
    {
     "data": {
      "text/html": [
       "<table class=\"dataframe\">\n",
       "<caption>A matrix: 6 × 1001 of type dbl</caption>\n",
       "<tbody>\n",
       "\t<tr><td>-0.02090592</td><td> 0.4738676</td><td>0.1620209</td><td>-0.05226481</td><td>-0.1637631</td><td>-0.026472457</td><td>0.1689895</td><td>-0.2421603</td><td>0.1585366</td><td>-0.1567944</td><td>⋯</td><td>-0.4006969</td><td>-1.09254036</td><td>-0.4119346</td><td>-0.2857143</td><td>-0.3885017</td><td>-0.3919861</td><td>-0.3969795</td><td>-0.02090592</td><td>-0.2844549</td><td>-0.3883308</td></tr>\n",
       "\t<tr><td>-0.02090592</td><td>-0.5261324</td><td>1.1620209</td><td>-0.05226481</td><td>-0.1637631</td><td> 0.006059281</td><td>1.1689895</td><td>-0.2421603</td><td>1.1585366</td><td>-0.1567944</td><td>⋯</td><td>-0.4006969</td><td>-1.09254036</td><td>-0.4119346</td><td>-0.2857143</td><td>-0.3885017</td><td>-0.3919861</td><td>-0.3969795</td><td>-0.02090592</td><td>-0.2844549</td><td>-0.3883308</td></tr>\n",
       "\t<tr><td>-0.02090592</td><td>-0.5261324</td><td>1.1620209</td><td>-0.05226481</td><td>-0.1637631</td><td>-0.026472457</td><td>1.1689895</td><td>-0.2421603</td><td>1.1585366</td><td>-0.1567944</td><td>⋯</td><td> 0.5993031</td><td>-0.09254036</td><td> 0.5880654</td><td>-0.2857143</td><td>-0.3885017</td><td>-0.3919861</td><td> 0.6030205</td><td>-0.02090592</td><td>-0.2844549</td><td>-0.3883308</td></tr>\n",
       "\t<tr><td>-0.02090592</td><td> 0.4738676</td><td>0.1620209</td><td>-0.05226481</td><td>-0.1637631</td><td>-0.026472457</td><td>0.1689895</td><td>-0.2421603</td><td>0.1585366</td><td>-0.1567944</td><td>⋯</td><td>-0.4006969</td><td>-1.09254036</td><td>-0.4119346</td><td>-0.2857143</td><td>-0.3885017</td><td>-0.3919861</td><td>-0.3969795</td><td>-0.02090592</td><td>-0.2844549</td><td>-0.3883308</td></tr>\n",
       "\t<tr><td>-0.02090592</td><td>-0.5261324</td><td>1.1620209</td><td>-0.05226481</td><td>-0.1637631</td><td>-0.026472457</td><td>1.1689895</td><td>-0.2421603</td><td>1.1585366</td><td>-0.1567944</td><td>⋯</td><td>-0.4006969</td><td>-1.09254036</td><td>-0.4119346</td><td>-0.2857143</td><td>-0.3885017</td><td>-0.3919861</td><td>-0.3969795</td><td>-0.02090592</td><td>-0.2844549</td><td>-0.3883308</td></tr>\n",
       "\t<tr><td>-0.02090592</td><td>-0.5261324</td><td>0.1620209</td><td>-0.05226481</td><td>-0.1637631</td><td>-0.026472457</td><td>0.1689895</td><td> 0.7578397</td><td>0.1585366</td><td>-0.1567944</td><td>⋯</td><td>-0.4006969</td><td>-1.09254036</td><td>-0.4119346</td><td>-0.2857143</td><td>-0.3885017</td><td>-0.3919861</td><td>-0.3969795</td><td>-0.02090592</td><td>-0.2844549</td><td>-0.3883308</td></tr>\n",
       "</tbody>\n",
       "</table>\n"
      ],
      "text/latex": [
       "A matrix: 6 × 1001 of type dbl\n",
       "\\begin{tabular}{lllllllllllllllllllll}\n",
       "\t -0.02090592 &  0.4738676 & 0.1620209 & -0.05226481 & -0.1637631 & -0.026472457 & 0.1689895 & -0.2421603 & 0.1585366 & -0.1567944 & ⋯ & -0.4006969 & -1.09254036 & -0.4119346 & -0.2857143 & -0.3885017 & -0.3919861 & -0.3969795 & -0.02090592 & -0.2844549 & -0.3883308\\\\\n",
       "\t -0.02090592 & -0.5261324 & 1.1620209 & -0.05226481 & -0.1637631 &  0.006059281 & 1.1689895 & -0.2421603 & 1.1585366 & -0.1567944 & ⋯ & -0.4006969 & -1.09254036 & -0.4119346 & -0.2857143 & -0.3885017 & -0.3919861 & -0.3969795 & -0.02090592 & -0.2844549 & -0.3883308\\\\\n",
       "\t -0.02090592 & -0.5261324 & 1.1620209 & -0.05226481 & -0.1637631 & -0.026472457 & 1.1689895 & -0.2421603 & 1.1585366 & -0.1567944 & ⋯ &  0.5993031 & -0.09254036 &  0.5880654 & -0.2857143 & -0.3885017 & -0.3919861 &  0.6030205 & -0.02090592 & -0.2844549 & -0.3883308\\\\\n",
       "\t -0.02090592 &  0.4738676 & 0.1620209 & -0.05226481 & -0.1637631 & -0.026472457 & 0.1689895 & -0.2421603 & 0.1585366 & -0.1567944 & ⋯ & -0.4006969 & -1.09254036 & -0.4119346 & -0.2857143 & -0.3885017 & -0.3919861 & -0.3969795 & -0.02090592 & -0.2844549 & -0.3883308\\\\\n",
       "\t -0.02090592 & -0.5261324 & 1.1620209 & -0.05226481 & -0.1637631 & -0.026472457 & 1.1689895 & -0.2421603 & 1.1585366 & -0.1567944 & ⋯ & -0.4006969 & -1.09254036 & -0.4119346 & -0.2857143 & -0.3885017 & -0.3919861 & -0.3969795 & -0.02090592 & -0.2844549 & -0.3883308\\\\\n",
       "\t -0.02090592 & -0.5261324 & 0.1620209 & -0.05226481 & -0.1637631 & -0.026472457 & 0.1689895 &  0.7578397 & 0.1585366 & -0.1567944 & ⋯ & -0.4006969 & -1.09254036 & -0.4119346 & -0.2857143 & -0.3885017 & -0.3919861 & -0.3969795 & -0.02090592 & -0.2844549 & -0.3883308\\\\\n",
       "\\end{tabular}\n"
      ],
      "text/markdown": [
       "\n",
       "A matrix: 6 × 1001 of type dbl\n",
       "\n",
       "| -0.02090592 |  0.4738676 | 0.1620209 | -0.05226481 | -0.1637631 | -0.026472457 | 0.1689895 | -0.2421603 | 0.1585366 | -0.1567944 | ⋯ | -0.4006969 | -1.09254036 | -0.4119346 | -0.2857143 | -0.3885017 | -0.3919861 | -0.3969795 | -0.02090592 | -0.2844549 | -0.3883308 |\n",
       "| -0.02090592 | -0.5261324 | 1.1620209 | -0.05226481 | -0.1637631 |  0.006059281 | 1.1689895 | -0.2421603 | 1.1585366 | -0.1567944 | ⋯ | -0.4006969 | -1.09254036 | -0.4119346 | -0.2857143 | -0.3885017 | -0.3919861 | -0.3969795 | -0.02090592 | -0.2844549 | -0.3883308 |\n",
       "| -0.02090592 | -0.5261324 | 1.1620209 | -0.05226481 | -0.1637631 | -0.026472457 | 1.1689895 | -0.2421603 | 1.1585366 | -0.1567944 | ⋯ |  0.5993031 | -0.09254036 |  0.5880654 | -0.2857143 | -0.3885017 | -0.3919861 |  0.6030205 | -0.02090592 | -0.2844549 | -0.3883308 |\n",
       "| -0.02090592 |  0.4738676 | 0.1620209 | -0.05226481 | -0.1637631 | -0.026472457 | 0.1689895 | -0.2421603 | 0.1585366 | -0.1567944 | ⋯ | -0.4006969 | -1.09254036 | -0.4119346 | -0.2857143 | -0.3885017 | -0.3919861 | -0.3969795 | -0.02090592 | -0.2844549 | -0.3883308 |\n",
       "| -0.02090592 | -0.5261324 | 1.1620209 | -0.05226481 | -0.1637631 | -0.026472457 | 1.1689895 | -0.2421603 | 1.1585366 | -0.1567944 | ⋯ | -0.4006969 | -1.09254036 | -0.4119346 | -0.2857143 | -0.3885017 | -0.3919861 | -0.3969795 | -0.02090592 | -0.2844549 | -0.3883308 |\n",
       "| -0.02090592 | -0.5261324 | 0.1620209 | -0.05226481 | -0.1637631 | -0.026472457 | 0.1689895 |  0.7578397 | 0.1585366 | -0.1567944 | ⋯ | -0.4006969 | -1.09254036 | -0.4119346 | -0.2857143 | -0.3885017 | -0.3919861 | -0.3969795 | -0.02090592 | -0.2844549 | -0.3883308 |\n",
       "\n"
      ],
      "text/plain": [
       "     [,1]        [,2]       [,3]      [,4]        [,5]       [,6]        \n",
       "[1,] -0.02090592  0.4738676 0.1620209 -0.05226481 -0.1637631 -0.026472457\n",
       "[2,] -0.02090592 -0.5261324 1.1620209 -0.05226481 -0.1637631  0.006059281\n",
       "[3,] -0.02090592 -0.5261324 1.1620209 -0.05226481 -0.1637631 -0.026472457\n",
       "[4,] -0.02090592  0.4738676 0.1620209 -0.05226481 -0.1637631 -0.026472457\n",
       "[5,] -0.02090592 -0.5261324 1.1620209 -0.05226481 -0.1637631 -0.026472457\n",
       "[6,] -0.02090592 -0.5261324 0.1620209 -0.05226481 -0.1637631 -0.026472457\n",
       "     [,7]      [,8]       [,9]      [,10]      [,11] [,12]      [,13]      \n",
       "[1,] 0.1689895 -0.2421603 0.1585366 -0.1567944 ⋯     -0.4006969 -1.09254036\n",
       "[2,] 1.1689895 -0.2421603 1.1585366 -0.1567944 ⋯     -0.4006969 -1.09254036\n",
       "[3,] 1.1689895 -0.2421603 1.1585366 -0.1567944 ⋯      0.5993031 -0.09254036\n",
       "[4,] 0.1689895 -0.2421603 0.1585366 -0.1567944 ⋯     -0.4006969 -1.09254036\n",
       "[5,] 1.1689895 -0.2421603 1.1585366 -0.1567944 ⋯     -0.4006969 -1.09254036\n",
       "[6,] 0.1689895  0.7578397 0.1585366 -0.1567944 ⋯     -0.4006969 -1.09254036\n",
       "     [,14]      [,15]      [,16]      [,17]      [,18]      [,19]      \n",
       "[1,] -0.4119346 -0.2857143 -0.3885017 -0.3919861 -0.3969795 -0.02090592\n",
       "[2,] -0.4119346 -0.2857143 -0.3885017 -0.3919861 -0.3969795 -0.02090592\n",
       "[3,]  0.5880654 -0.2857143 -0.3885017 -0.3919861  0.6030205 -0.02090592\n",
       "[4,] -0.4119346 -0.2857143 -0.3885017 -0.3919861 -0.3969795 -0.02090592\n",
       "[5,] -0.4119346 -0.2857143 -0.3885017 -0.3919861 -0.3969795 -0.02090592\n",
       "[6,] -0.4119346 -0.2857143 -0.3885017 -0.3919861 -0.3969795 -0.02090592\n",
       "     [,20]      [,21]     \n",
       "[1,] -0.2844549 -0.3883308\n",
       "[2,] -0.2844549 -0.3883308\n",
       "[3,] -0.2844549 -0.3883308\n",
       "[4,] -0.2844549 -0.3883308\n",
       "[5,] -0.2844549 -0.3883308\n",
       "[6,] -0.2844549 -0.3883308"
      ]
     },
     "metadata": {},
     "output_type": "display_data"
    }
   ],
   "source": [
    "dim(X)\n",
    "head(X)"
   ]
  },
  {
   "cell_type": "markdown",
   "id": "1a52b431-d75f-4e77-b14b-5a792902ba7d",
   "metadata": {},
   "source": [
    "-----------------------------------------"
   ]
  },
  {
   "cell_type": "markdown",
   "id": "8be41725-b9bc-438c-b523-a63a07b9c97e",
   "metadata": {},
   "source": [
    "**Example question: in the genotype matrix `X`, how many individuals and the genetic variants are included? What is the genotype value for the 100th variant of the 21st individual?**"
   ]
  },
  {
   "cell_type": "markdown",
   "id": "b8142825-25c1-4891-b26f-ee96dc15bebf",
   "metadata": {},
   "source": [
    "**Example answer:**"
   ]
  },
  {
   "cell_type": "code",
   "execution_count": 37,
   "id": "47592dba-91a1-4bb9-8409-557b704f1a03",
   "metadata": {
    "tags": []
   },
   "outputs": [
    {
     "data": {
      "text/html": [
       "<style>\n",
       ".list-inline {list-style: none; margin:0; padding: 0}\n",
       ".list-inline>li {display: inline-block}\n",
       ".list-inline>li:not(:last-child)::after {content: \"\\00b7\"; padding: 0 .5ex}\n",
       "</style>\n",
       "<ol class=list-inline><li>574</li><li>1001</li></ol>\n"
      ],
      "text/latex": [
       "\\begin{enumerate*}\n",
       "\\item 574\n",
       "\\item 1001\n",
       "\\end{enumerate*}\n"
      ],
      "text/markdown": [
       "1. 574\n",
       "2. 1001\n",
       "\n",
       "\n"
      ],
      "text/plain": [
       "[1]  574 1001"
      ]
     },
     "metadata": {},
     "output_type": "display_data"
    }
   ],
   "source": [
    "dim(X)"
   ]
  },
  {
   "cell_type": "markdown",
   "id": "9959be9a",
   "metadata": {},
   "source": [
    "The genotype matrix has 574 individuals and 1001 genetic variants."
   ]
  },
  {
   "cell_type": "code",
   "execution_count": 38,
   "id": "1a6af52a",
   "metadata": {
    "tags": []
   },
   "outputs": [
    {
     "data": {
      "text/html": [
       "0.440766550522648"
      ],
      "text/latex": [
       "0.440766550522648"
      ],
      "text/markdown": [
       "0.440766550522648"
      ],
      "text/plain": [
       "[1] 0.4407666"
      ]
     },
     "metadata": {},
     "output_type": "display_data"
    }
   ],
   "source": [
    "X[21, 100]"
   ]
  },
  {
   "cell_type": "markdown",
   "id": "f0a245b8-c503-406f-add8-08cd188fb503",
   "metadata": {},
   "source": [
    "The genotype value for the 100th variant of the 21st individual is 0.4408."
   ]
  },
  {
   "cell_type": "markdown",
   "id": "68e49ecd-e78c-470c-bb8b-999e1d0df3ff",
   "metadata": {},
   "source": [
    "-----------------------------------------"
   ]
  },
  {
   "cell_type": "markdown",
   "id": "7b4f5d11",
   "metadata": {},
   "source": [
    "The phenotype matrix contains values for the 574 individuals for 2 traits,"
   ]
  },
  {
   "cell_type": "code",
   "execution_count": 39,
   "id": "8aa24a7f",
   "metadata": {
    "tags": []
   },
   "outputs": [
    {
     "data": {
      "text/html": [
       "<style>\n",
       ".list-inline {list-style: none; margin:0; padding: 0}\n",
       ".list-inline>li {display: inline-block}\n",
       ".list-inline>li:not(:last-child)::after {content: \"\\00b7\"; padding: 0 .5ex}\n",
       "</style>\n",
       "<ol class=list-inline><li>574</li><li>2</li></ol>\n"
      ],
      "text/latex": [
       "\\begin{enumerate*}\n",
       "\\item 574\n",
       "\\item 2\n",
       "\\end{enumerate*}\n"
      ],
      "text/markdown": [
       "1. 574\n",
       "2. 2\n",
       "\n",
       "\n"
      ],
      "text/plain": [
       "[1] 574   2"
      ]
     },
     "metadata": {},
     "output_type": "display_data"
    }
   ],
   "source": [
    "dim(Y)"
   ]
  },
  {
   "cell_type": "markdown",
   "id": "66d75fe6",
   "metadata": {},
   "source": [
    "We focus on the first trait, let"
   ]
  },
  {
   "cell_type": "code",
   "execution_count": 40,
   "id": "22139a61",
   "metadata": {
    "tags": []
   },
   "outputs": [],
   "source": [
    "y = Y[,1]\n",
    "b = true_coef[,1]"
   ]
  },
  {
   "cell_type": "markdown",
   "id": "f62408ff",
   "metadata": {},
   "source": [
    "There are 3 \"causal\" variants for this trait,"
   ]
  },
  {
   "cell_type": "code",
   "execution_count": 41,
   "id": "41ba6e94",
   "metadata": {
    "tags": []
   },
   "outputs": [
    {
     "data": {
      "text/html": [
       "<style>\n",
       ".list-inline {list-style: none; margin:0; padding: 0}\n",
       ".list-inline>li {display: inline-block}\n",
       ".list-inline>li:not(:last-child)::after {content: \"\\00b7\"; padding: 0 .5ex}\n",
       "</style>\n",
       "<ol class=list-inline><li>403</li><li>653</li><li>773</li></ol>\n"
      ],
      "text/latex": [
       "\\begin{enumerate*}\n",
       "\\item 403\n",
       "\\item 653\n",
       "\\item 773\n",
       "\\end{enumerate*}\n"
      ],
      "text/markdown": [
       "1. 403\n",
       "2. 653\n",
       "3. 773\n",
       "\n",
       "\n"
      ],
      "text/plain": [
       "[1] 403 653 773"
      ]
     },
     "metadata": {},
     "output_type": "display_data"
    }
   ],
   "source": [
    "which(b != 0)"
   ]
  },
  {
   "cell_type": "markdown",
   "id": "4d2f2670-d370-4063-932d-4baac07ab5d9",
   "metadata": {},
   "source": [
    "Note: in this tutorial we will avoid the phrase \"causal\", and use \"effect variable\" to refer to the variants having true non-zero effects on the phenotype."
   ]
  },
  {
   "cell_type": "markdown",
   "id": "148f29d3-ff2b-48cb-92a3-834c076ae1d2",
   "metadata": {},
   "source": [
    "-----------------------------------------"
   ]
  },
  {
   "cell_type": "markdown",
   "id": "8fe05b96",
   "metadata": {},
   "source": [
    "**Question 1: Please use R function `plot` to visualize the true effects vector. What are the effect sizes for these 3 \"causal\" variants?**"
   ]
  },
  {
   "cell_type": "markdown",
   "id": "b9d9cc79-0e9f-44ab-8969-346f55f74d6d",
   "metadata": {
    "tags": []
   },
   "source": [
    "**Answer:**"
   ]
  },
  {
   "cell_type": "markdown",
   "id": "e99f033d-566e-445f-a5df-3ca10424e22d",
   "metadata": {},
   "source": [
    "-----------------------------------------"
   ]
  },
  {
   "cell_type": "markdown",
   "id": "068fcf8c",
   "metadata": {},
   "source": [
    "# Association testing via simple linear regression\n",
    "\n",
    "`univariate_regression` function in `susieR` can be used to perform association testing \n",
    "by fitting univariate simple regression for each variable separately.\n",
    "The results are $\\hat{\\beta}$ for effect size estimates, and their standard errors $SE(\\hat{\\beta})$."
   ]
  },
  {
   "cell_type": "code",
   "execution_count": 42,
   "id": "a594a13f",
   "metadata": {
    "tags": []
   },
   "outputs": [],
   "source": [
    "sumstats <- univariate_regression(X, y)"
   ]
  },
  {
   "cell_type": "markdown",
   "id": "e7de1dab-dc0c-44db-9cd9-60aead675aa8",
   "metadata": {},
   "source": [
    "-----------------------------------------"
   ]
  },
  {
   "cell_type": "markdown",
   "id": "4fbd22c3",
   "metadata": {},
   "source": [
    "**Question 2: Please use R function plot to compare the true effects variable `b` with the estimated effect sizes `sumstats$betahat`. Are they consistent, and why?**"
   ]
  },
  {
   "cell_type": "markdown",
   "id": "2138f4ac-a6de-4d14-9911-8eff53381f21",
   "metadata": {
    "tags": []
   },
   "source": [
    "**Answer:**"
   ]
  },
  {
   "cell_type": "markdown",
   "id": "6f110acf-fe57-4a5c-b419-49d04f00275b",
   "metadata": {},
   "source": [
    "-----------------------------------------"
   ]
  },
  {
   "cell_type": "markdown",
   "id": "f1ac3656",
   "metadata": {},
   "source": [
    "z-scores can be derived from these quantities; $-log_{10}$ p-values can then becomputed from z-scores, "
   ]
  },
  {
   "cell_type": "code",
   "execution_count": 43,
   "id": "22d653f0",
   "metadata": {
    "tags": []
   },
   "outputs": [],
   "source": [
    "z_scores <- sumstats$betahat / sumstats$sebetahat\n",
    "log10p <- -log10(pchisq(z_scores^2,1,lower.tail=F))"
   ]
  },
  {
   "cell_type": "markdown",
   "id": "bb313298-7a76-4906-95d8-9c1b907a8223",
   "metadata": {},
   "source": [
    "-----------------------------------------"
   ]
  },
  {
   "cell_type": "markdown",
   "id": "bd6292de",
   "metadata": {},
   "source": [
    "**Question 3: How many variables have p-values smaller than $5 \\times 10^{-8}$? How would you interpret those variants based on the univariate association analysis?**\n"
   ]
  },
  {
   "cell_type": "markdown",
   "id": "6f8a4d46-6d8c-41e7-a7b3-750cc5c9b92d",
   "metadata": {
    "tags": []
   },
   "source": [
    "**Answer:**"
   ]
  },
  {
   "cell_type": "markdown",
   "id": "ff2bc11a-878d-4740-a770-af08f78f4113",
   "metadata": {},
   "source": [
    "**Question 4: What's the correlation between these variables? Draw a correlogram and print out the pair with highest correlation.**"
   ]
  },
  {
   "cell_type": "markdown",
   "id": "e29efa2c-7592-40bf-ab59-f8ce52a8fd02",
   "metadata": {},
   "source": [
    "**Answer:**"
   ]
  },
  {
   "cell_type": "markdown",
   "id": "130ce7ac-04b2-4147-9a9d-9c6cc6d08629",
   "metadata": {},
   "source": [
    "-----------------------------------------"
   ]
  },
  {
   "cell_type": "markdown",
   "id": "f06fef39",
   "metadata": {},
   "source": [
    "`susieR` package provides a plot function to generate Manhattan plot for the association test results. Notice that the true effect variables are labelled in red (true effects provided to `susie_plot` via setting `b=` parameter),"
   ]
  },
  {
   "cell_type": "code",
   "execution_count": 44,
   "id": "592b5785",
   "metadata": {
    "tags": []
   },
   "outputs": [
    {
     "data": {
      "image/png": "[encoded data removed]",
      "text/plain": [
       "plot without title"
      ]
     },
     "metadata": {
      "image/png": {
       "height": 420,
       "width": 420
      }
     },
     "output_type": "display_data"
    }
   ],
   "source": [
    "susie_plot(z_scores,y=\"z\",b=b)"
   ]
  },
  {
   "cell_type": "markdown",
   "id": "95d82a8f",
   "metadata": {},
   "source": [
    "As shown on this plot, the \"lead\" SNP (the one with smallest p-value) is indeed one of the true effect variables. However, the 2nd most significant SNP is not one of the other two effect variables, and there are many other SNPs having p-values smaller than $5 \\times 10^{-8}$, a widely accepted significant level threshold for genetic association studies."
   ]
  },
  {
   "cell_type": "markdown",
   "id": "b7ebde88-1534-4f41-9ce2-ade0f329835d",
   "metadata": {},
   "source": [
    "-----------------------------------------"
   ]
  },
  {
   "cell_type": "markdown",
   "id": "d49d3db0-4b78-4ffb-a7ae-d08a88d43c4e",
   "metadata": {},
   "source": [
    "**Question 5: What index is the second most significant SNP? Is it one of the other two true effect variables? What would you say about the relationship between the top and 2nd most significant SNP?**\n"
   ]
  },
  {
   "cell_type": "markdown",
   "id": "f47aac12-04a8-42f7-a89d-1f3dd777162a",
   "metadata": {},
   "source": [
    "**Answer:**"
   ]
  },
  {
   "cell_type": "markdown",
   "id": "b002ed5a-5cc7-47b4-9348-95ab706e07d0",
   "metadata": {},
   "source": [
    "-----------------------------------------"
   ]
  },
  {
   "cell_type": "markdown",
   "id": "fcc44b7e",
   "metadata": {},
   "source": [
    "# \"One causal variant\" assumption for fine-mapping"
   ]
  },
  {
   "cell_type": "markdown",
   "id": "d132701d",
   "metadata": {},
   "source": [
    "Under the assumption that there is only one true effect in the region of interest, fine-mapping does not have to use linkage disequilibrium (LD) information between variables. It can be performed by simply calculating the likelihood of the association model for each variable separately, then computing the probability for a variable being the true effect as the ratio of its likelihood over the sum of likelihoods over all variables. We use linear regression `lm` in R to compute the log-likelihood,"
   ]
  },
  {
   "cell_type": "code",
   "execution_count": 45,
   "id": "f66a3df2",
   "metadata": {
    "tags": []
   },
   "outputs": [],
   "source": [
    "lliks = sapply(1:ncol(X), function(i) logLik(lm(y~X[,i])))"
   ]
  },
  {
   "cell_type": "markdown",
   "id": "4a00e8f0",
   "metadata": {},
   "source": [
    "Then compute the probability for each variable being the true effect variable: "
   ]
  },
  {
   "cell_type": "code",
   "execution_count": 46,
   "id": "005c78b4",
   "metadata": {
    "tags": []
   },
   "outputs": [],
   "source": [
    "lliks = lliks - max(lliks) # To avoid taking exp on large numbers in the next line, thus improving numerical stability \n",
    "probs = exp(lliks)/sum(exp(lliks))"
   ]
  },
  {
   "cell_type": "markdown",
   "id": "13e55277",
   "metadata": {},
   "source": [
    "We use `susie_plot` function to plot these probabilities computed, and color label the true effect variables:"
   ]
  },
  {
   "cell_type": "code",
   "execution_count": 47,
   "id": "80022c3b",
   "metadata": {
    "tags": []
   },
   "outputs": [
    {
     "data": {
      "image/png": "[encoded data removed]",
      "text/plain": [
       "plot without title"
      ]
     },
     "metadata": {
      "image/png": {
       "height": 420,
       "width": 420
      }
     },
     "output_type": "display_data"
    }
   ],
   "source": [
    "susie_plot(probs, y=\"PIP\", b=b, ylab = \"Prob. true effect (assuming one effect variable)\")"
   ]
  },
  {
   "cell_type": "markdown",
   "id": "4d348e9e",
   "metadata": {},
   "source": [
    "As expected, under the \"one causal variant\" assumption, only the lead SNP is identified with over 80% probability of having a non-zero effect. The other two true effect variables in red are not identified."
   ]
  },
  {
   "cell_type": "markdown",
   "id": "13051911",
   "metadata": {},
   "source": [
    "## 95% credible set for single effect\n",
    "\n",
    "95% credible set (CS) is defined as a set of variables with 95% probability of containing a true effect. By visually examine the plot above, we can see that the lead SNP has over 80% probability being the true effect, and another SNP near it has almost 20% probability of being the true effect. The 95% credible set should thus contain both of them in order for the coverage to exceed 95%. Indeed, we can formally verify this using an internal function `in_CS` to assess if a variable is in a single effect CS. We report the indices of these variables,"
   ]
  },
  {
   "cell_type": "code",
   "execution_count": 48,
   "id": "b04034a6-6546-4f1d-abf1-a13563434356",
   "metadata": {
    "tags": []
   },
   "outputs": [
    {
     "data": {
      "text/html": [
       "<style>\n",
       ".list-inline {list-style: none; margin:0; padding: 0}\n",
       ".list-inline>li {display: inline-block}\n",
       ".list-inline>li:not(:last-child)::after {content: \"\\00b7\"; padding: 0 .5ex}\n",
       "</style>\n",
       "<ol class=list-inline><li>773</li><li>777</li></ol>\n"
      ],
      "text/latex": [
       "\\begin{enumerate*}\n",
       "\\item 773\n",
       "\\item 777\n",
       "\\end{enumerate*}\n"
      ],
      "text/markdown": [
       "1. 773\n",
       "2. 777\n",
       "\n",
       "\n"
      ],
      "text/plain": [
       "[1] 773 777"
      ]
     },
     "metadata": {},
     "output_type": "display_data"
    }
   ],
   "source": [
    "which(susieR:::in_CS(t(probs), coverage = 0.95) != 0)"
   ]
  },
  {
   "cell_type": "markdown",
   "id": "d278d4f4-1851-4283-b1ad-036b94d30893",
   "metadata": {},
   "source": [
    "These variables indeed correspond to the two non-zero probability variables on the plot above."
   ]
  },
  {
   "cell_type": "markdown",
   "id": "261c6553-e988-46e9-96b3-74b2a8fd0e6b",
   "metadata": {},
   "source": [
    "-----------------------------------------"
   ]
  },
  {
   "cell_type": "markdown",
   "id": "a7b690e0",
   "metadata": {},
   "source": [
    "**Question 6: Show the p-values and probabilities of non-zero effect for these two variables. Compute the correlation between these two variables, and commment on result for the zero effect variable `777`**."
   ]
  },
  {
   "cell_type": "markdown",
   "id": "4b296d21-bb5b-4446-9e66-b3a0375f1ea8",
   "metadata": {},
   "source": [
    "**Answer:**"
   ]
  },
  {
   "cell_type": "markdown",
   "id": "533f7cc6-48c5-4c67-8c59-bf60ef020d61",
   "metadata": {},
   "source": [
    "--------------------------"
   ]
  },
  {
   "cell_type": "markdown",
   "id": "8739da59",
   "metadata": {},
   "source": [
    "# Fine-mapping with individual level data using Sum of Single Effects model\n",
    "\n",
    "When multiple true effects are expected, formal statistical fine-mapping via Bayesian Variable Selection\n",
    "should be performed. We fit a Sum of Single Effects (SuSiE) model implemented in `susieR` package, \n",
    "assuming at most 10 causal variables (although SuSiE is robust to the choice of `L`)."
   ]
  },
  {
   "cell_type": "code",
   "execution_count": 49,
   "id": "a2833868",
   "metadata": {
    "tags": []
   },
   "outputs": [],
   "source": [
    "fitted <- susie(X, y, L = 10)"
   ]
  },
  {
   "cell_type": "markdown",
   "id": "6b81130b",
   "metadata": {},
   "source": [
    "## 95% credible sets for each single effect\n",
    "\n",
    "By default, `susie` function computes 95% CS each containing one effect variable,"
   ]
  },
  {
   "cell_type": "code",
   "execution_count": 50,
   "id": "b6a29161",
   "metadata": {
    "tags": []
   },
   "outputs": [
    {
     "name": "stdout",
     "output_type": "stream",
     "text": [
      "$cs\n",
      "$cs$L2\n",
      "[1] 653\n",
      "\n",
      "$cs$L1\n",
      "[1] 773 777\n",
      "\n",
      "$cs$L3\n",
      " [1] 362 365 372 373 374 379 381 383 384 386 387 388 389 391 392 396 397 398 399\n",
      "[20] 400 401 403 404 405 407 408 415\n",
      "\n",
      "\n",
      "$purity\n",
      "   min.abs.corr mean.abs.corr median.abs.corr\n",
      "L2    1.0000000     1.0000000       1.0000000\n",
      "L1    0.9815726     0.9815726       0.9815726\n",
      "L3    0.8686309     0.9640176       0.9720711\n",
      "\n",
      "$cs_index\n",
      "[1] 2 1 3\n",
      "\n",
      "$coverage\n",
      "[1] 0.9998236 0.9988858 0.9539811\n",
      "\n",
      "$requested_coverage\n",
      "[1] 0.95\n",
      "\n"
     ]
    }
   ],
   "source": [
    "print(fitted$sets)"
   ]
  },
  {
   "cell_type": "markdown",
   "id": "0c102eac",
   "metadata": {},
   "source": [
    "The 3 true signals have been captured by the 3 CS reported here. The\n",
    "3rd CS contains many variables, including the true causal variable\n",
    "`403`. The minimum absolute correlation is 0.86."
   ]
  },
  {
   "cell_type": "markdown",
   "id": "4e65b052-4170-464c-8679-555da599780a",
   "metadata": {},
   "source": [
    "-----------------------------------"
   ]
  },
  {
   "cell_type": "markdown",
   "id": "136388f7-a2ba-437d-ba08-5bfb50274e4c",
   "metadata": {},
   "source": [
    "**Question 7: Print the credible sets if we use 99% as the coverage. Hint: you may want to check the source code for `susie` function from [here](https://github.com/stephenslab/susieR)**."
   ]
  },
  {
   "cell_type": "markdown",
   "id": "66a1c80f-a8eb-4184-9dfc-da2f92c2dd49",
   "metadata": {},
   "source": [
    "**Answer:**"
   ]
  },
  {
   "cell_type": "markdown",
   "id": "b421822b-ca6d-4114-92d9-57a2798732f0",
   "metadata": {},
   "source": [
    "**Question 8: does higher coverage mean you have larger CS, or smaller CS? Why is that? Please look at the 3rd CS as an example in the two fitted results, and explain why the minimum absolute correlation is higher?**"
   ]
  },
  {
   "cell_type": "markdown",
   "id": "a44e1432-5e7a-4036-aecc-7f4ee42640c2",
   "metadata": {},
   "source": [
    "**Answer:**"
   ]
  },
  {
   "cell_type": "markdown",
   "id": "6c04a158-3cf1-4bb0-a40f-777ff355d38a",
   "metadata": {},
   "source": [
    "-----------------------------------"
   ]
  },
  {
   "cell_type": "markdown",
   "id": "0e1511a9",
   "metadata": {},
   "source": [
    "## Posterior inclusion probabilities\n",
    "\n",
    "Here we summarize the fine-mapping results by posterior inclusion\n",
    "probability (PIP):"
   ]
  },
  {
   "cell_type": "code",
   "execution_count": 51,
   "id": "741c98b4",
   "metadata": {
    "tags": []
   },
   "outputs": [
    {
     "data": {
      "image/png": "[encoded data removed]",
      "text/plain": [
       "plot without title"
      ]
     },
     "metadata": {
      "image/png": {
       "height": 420,
       "width": 420
      }
     },
     "output_type": "display_data"
    }
   ],
   "source": [
    "susie_plot(fitted, y=\"PIP\", b=b, add_legend=T)"
   ]
  },
  {
   "cell_type": "markdown",
   "id": "bebcdd11",
   "metadata": {},
   "source": [
    "The true effect variables are colored red, and the three 95% CS identified are\n",
    "circled in different colors. "
   ]
  },
  {
   "cell_type": "markdown",
   "id": "3d76560f-726f-4dde-93d9-ac79b06180a5",
   "metadata": {},
   "source": [
    "-------------------------------------------"
   ]
  },
  {
   "cell_type": "markdown",
   "id": "acd92fde-73e1-412e-a2cf-e392c0508468",
   "metadata": {},
   "source": [
    "**Question 9: Recall the true effect variables we know before running any susie, and for the variable 403, what is the PIP? What's the average PIP of the 3rd CS? Is the PIP for variable 403 higher or lower than the average, and why is that?**"
   ]
  },
  {
   "cell_type": "markdown",
   "id": "7e1ec1a4",
   "metadata": {},
   "source": [
    "Hint: You can use the code below to compare $-log_{10}$ p-value and PIP for the CS containing variable 403:"
   ]
  },
  {
   "cell_type": "markdown",
   "id": "126be6ca-30de-4e9d-9367-237fcc271dc3",
   "metadata": {
    "tags": []
   },
   "source": [
    "```R\n",
    "    i  <- fitted$sets$cs$L3\n",
    "    z3 <- cbind(i,log10p[i],fitted$pip[i])\n",
    "    colnames(z3) <- c('position', '-log10 pvalue', 'PIP')\n",
    "    z3[order(z3[,2], decreasing = TRUE),]\n",
    "```"
   ]
  },
  {
   "cell_type": "markdown",
   "id": "918836fa-d45c-4af9-965b-914513b8d998",
   "metadata": {},
   "source": [
    "**Answer:**"
   ]
  },
  {
   "cell_type": "markdown",
   "id": "c70db76d",
   "metadata": {},
   "source": [
    "**Question 10: Please rerun the `susie` analysis setting `L=1` to detect a maximum of only one effect across the region. How does the result compare to the previous section of \"one causal effect\" fine-mapping using likelihoods from univariate analysis?**"
   ]
  },
  {
   "cell_type": "markdown",
   "id": "a286e21d-6259-44b9-a5d4-78acd477f777",
   "metadata": {},
   "source": [
    "**Answer:**"
   ]
  },
  {
   "cell_type": "markdown",
   "id": "00c3b66a-eb17-4d2b-b628-74705f233e9e",
   "metadata": {},
   "source": [
    "-------------------------------------------"
   ]
  },
  {
   "cell_type": "markdown",
   "id": "98d9b654",
   "metadata": {},
   "source": [
    "## Choice of prior effect size\n",
    "\n",
    "In SuSiE, the prior effect size is parameterized by the percentage of variance explained by a variable, $h_j^2$. \n",
    "By default, SuSiE estimates $h_j^2$ and uses it as the prior (an empirical Bayes approach). \n",
    "Here we demonstrate fixing the prior effect size to 0.2, i.e., we believe a non-zero effect variable can explain 20% variation in quantitative trait values:"
   ]
  },
  {
   "cell_type": "code",
   "execution_count": 54,
   "id": "c1531799",
   "metadata": {
    "tags": []
   },
   "outputs": [
    {
     "data": {
      "image/png": "[encoded data removed]",
      "text/plain": [
       "plot without title"
      ]
     },
     "metadata": {
      "image/png": {
       "height": 420,
       "width": 420
      }
     },
     "output_type": "display_data"
    }
   ],
   "source": [
    "fitted2 = susie(X, y, L = 10, estimate_prior_variance = FALSE, scaled_prior_variance = 0.2)\n",
    "susie_plot(fitted2, y='PIP', b=b, add_legend=T)"
   ]
  },
  {
   "cell_type": "markdown",
   "id": "1f0b5d99",
   "metadata": {},
   "source": [
    "The result is very similar to when prior effects are estimated. "
   ]
  },
  {
   "cell_type": "markdown",
   "id": "738f1e11-6b0d-40f3-8636-c807c0f89968",
   "metadata": {},
   "source": [
    "-------------------------------------------"
   ]
  },
  {
   "cell_type": "markdown",
   "id": "6682f027",
   "metadata": {},
   "source": [
    "**Question 11: Please change `scaled_prior_variance` to different numbers between 0 and 1, and examine the results. What happens if you set it to 0.001, and why?**"
   ]
  },
  {
   "cell_type": "markdown",
   "id": "7ecc21aa-178b-432d-bc89-e906730abb68",
   "metadata": {},
   "source": [
    "**Answer:**"
   ]
  },
  {
   "cell_type": "markdown",
   "id": "63297879-2c22-4525-8ef4-f371d0b79c68",
   "metadata": {},
   "source": [
    "-------------------------------------------"
   ]
  },
  {
   "cell_type": "markdown",
   "id": "4e58074d",
   "metadata": {},
   "source": [
    "# Fine-mapping with summary statistics via `susie_rss`"
   ]
  },
  {
   "cell_type": "markdown",
   "id": "b2523607",
   "metadata": {},
   "source": [
    "Summary statistics of genetic association studies typically contain effect size ($\\hat{\\beta}$ coefficient from regression), p-value and minor allele frequencies. \n",
    "These information can be used to perform fine-mapping with given an additional input of correlation matrix between variables.\n",
    "The correlation matrix in genetics is typically referred to as LD matrix (LD for linkage disequilibrium). \n",
    "One may use external reference panels to estimate it when this matrix cannot be obtained from samples directly. There is a potential problem using LD from reference panel, and we demonstrated it in the next section.\n",
    "Caution that LD matrix here has to be correlation matrix $r$, not $r^2$ or $|r|$."
   ]
  },
  {
   "cell_type": "markdown",
   "id": "2e3365c2",
   "metadata": {},
   "source": [
    "We have previously computed z-scores for this data-set. The correlation matrix can be computed directly from $X$ matrix, "
   ]
  },
  {
   "cell_type": "code",
   "execution_count": 55,
   "id": "8c75160d",
   "metadata": {
    "tags": []
   },
   "outputs": [],
   "source": [
    "R <- cor(X)"
   ]
  },
  {
   "cell_type": "markdown",
   "id": "a7a36cbf",
   "metadata": {},
   "source": [
    "SuSiE regression with summary statistics is implemented as `susie_rss` function, "
   ]
  },
  {
   "cell_type": "code",
   "execution_count": 56,
   "id": "8ea48d91",
   "metadata": {
    "tags": []
   },
   "outputs": [
    {
     "name": "stderr",
     "output_type": "stream",
     "text": [
      "\u001b[1m\u001b[4m\u001b[31mWARNING:\u001b[39m\u001b[24m\u001b[22m Providing the sample size (n), or even a rough estimate of n, is highly recommended. Without n, the implicit assumption is n is large (Inf) and the effect sizes are small (close to zero).\n",
      "\n"
     ]
    }
   ],
   "source": [
    "fitted_rss <- susie_rss(z_scores, R, L = 10)"
   ]
  },
  {
   "cell_type": "markdown",
   "id": "de034c96",
   "metadata": {},
   "source": [
    "We compare the PIP obtained with previous analysis using individual level data,"
   ]
  },
  {
   "cell_type": "code",
   "execution_count": 57,
   "id": "ef2daeef",
   "metadata": {
    "tags": []
   },
   "outputs": [
    {
     "data": {
      "image/png": "[encoded data removed]",
      "text/plain": [
       "plot without title"
      ]
     },
     "metadata": {
      "image/png": {
       "height": 420,
       "width": 420
      }
     },
     "output_type": "display_data"
    }
   ],
   "source": [
    "plot(fitted$pip, fitted_rss$pip, ylim=c(0,1))"
   ]
  },
  {
   "cell_type": "markdown",
   "id": "c56f43da",
   "metadata": {},
   "source": [
    "The results very much agree. This is expected when the summary statistics are indeed derived from the individual level data."
   ]
  },
  {
   "cell_type": "markdown",
   "id": "afea6031",
   "metadata": {},
   "source": [
    "## Use LD from external reference data"
   ]
  },
  {
   "cell_type": "markdown",
   "id": "bbdff726",
   "metadata": {},
   "source": [
    "When original genotype information is not available, \n",
    "one may use reference panel to estimate LD matrix. \n",
    "False discoveries may occur if the LD pattern from the reference panel does not agree well with the original sample. \n",
    "\n",
    "To illustrate, we randomly generated 500 samples from $N(0,R)$ and treated them as reference panel genotype matrix `X_ref`."
   ]
  },
  {
   "cell_type": "code",
   "execution_count": 58,
   "id": "1796a956",
   "metadata": {
    "tags": []
   },
   "outputs": [],
   "source": [
    "set.seed(1234)\n",
    "tmp = matrix(rnorm(500*1001), 500, 1001)\n",
    "eigenR = eigen(R)\n",
    "eigenR$values[eigenR$values < 1e-10] = 0\n",
    "X_ref = tmp %*% (eigenR$values * t(eigenR$vectors))\n",
    "R_ref = cor(X_ref)"
   ]
  },
  {
   "cell_type": "markdown",
   "id": "ef294c2a",
   "metadata": {},
   "source": [
    "Using `susie_rss` function with LD from reference panel,"
   ]
  },
  {
   "cell_type": "code",
   "execution_count": 59,
   "id": "1e588acb",
   "metadata": {
    "tags": []
   },
   "outputs": [
    {
     "name": "stderr",
     "output_type": "stream",
     "text": [
      "\u001b[1m\u001b[4m\u001b[31mWARNING:\u001b[39m\u001b[24m\u001b[22m Providing the sample size (n), or even a rough estimate of n, is highly recommended. Without n, the implicit assumption is n is large (Inf) and the effect sizes are small (close to zero).\n",
      "\n"
     ]
    },
    {
     "data": {
      "image/png": "[encoded data removed]",
      "text/plain": [
       "plot without title"
      ]
     },
     "metadata": {
      "image/png": {
       "height": 420,
       "width": 420
      }
     },
     "output_type": "display_data"
    }
   ],
   "source": [
    "fitted_rss_ref <- susie_rss(z_scores, R_ref, L = 10)\n",
    "susie_plot(fitted_rss_ref, y=\"PIP\", b=b)"
   ]
  },
  {
   "cell_type": "markdown",
   "id": "3a26c33a-dd8b-4013-9615-43b752d3cf19",
   "metadata": {},
   "source": [
    "-------------------------------------------"
   ]
  },
  {
   "cell_type": "markdown",
   "id": "8d2bacc3",
   "metadata": {},
   "source": [
    "**Question 12: Please compare and comment on the CS reported using reference LD panel versus using the correct LD computed from genotype data. Are there any false discoveries?**"
   ]
  },
  {
   "cell_type": "markdown",
   "id": "f9d564b8-3801-4299-8c0b-8006d89fd944",
   "metadata": {},
   "source": [
    "**Answer:**"
   ]
  },
  {
   "cell_type": "markdown",
   "id": "f67841e9-6e23-4125-8e72-dc7e9bd20818",
   "metadata": {},
   "source": [
    "-------------------------------------------"
   ]
  },
  {
   "cell_type": "markdown",
   "id": "d7fb77c0",
   "metadata": {},
   "source": [
    "We recommend the following modification to the LD matrix when reference panel ($R_{ref}$) are used,\n",
    "$$\n",
    "\\tilde{R} = \\text{cov2cor}((1-w)R_{ref}+ w zz^\\intercal)),\n",
    "$$\n",
    "where z is the original summary statistics. We suggest using $w = 1/n_{ref}$, $n_{ref}$ is the sample size from the reference panel. The modified LD matrix becomes\n",
    "$$\n",
    "\\tilde{R} = \\text{cov2cor}(\\frac{n_{ref}-1}{n_{ref}}R_{ref}+ \\frac{1}{n_{ref}} zz^\\intercal)) = \\text{cov2cor}(\\frac{1}{n_{ref}}(X_{ref}^\\intercal X_{ref}+ zz^\\intercal)),\n",
    "$$\n",
    "where `X_ref` is column-standardized. This modification is implemented in `susie_rss` with parameter `z_ld_weight`:"
   ]
  },
  {
   "cell_type": "code",
   "execution_count": 60,
   "id": "ef18ba63",
   "metadata": {
    "tags": []
   },
   "outputs": [
    {
     "name": "stderr",
     "output_type": "stream",
     "text": [
      "\u001b[1m\u001b[4m\u001b[31mWARNING:\u001b[39m\u001b[24m\u001b[22m As of version 0.11.0, use of non-zero z_ld_weight is no longer recommended\n",
      "\n",
      "\u001b[1m\u001b[4m\u001b[31mWARNING:\u001b[39m\u001b[24m\u001b[22m Providing the sample size (n), or even a rough estimate of n, is highly recommended. Without n, the implicit assumption is n is large (Inf) and the effect sizes are small (close to zero).\n",
      "\n"
     ]
    },
    {
     "data": {
      "image/png": "[encoded data removed]",
      "text/plain": [
       "plot without title"
      ]
     },
     "metadata": {
      "image/png": {
       "height": 420,
       "width": 420
      }
     },
     "output_type": "display_data"
    }
   ],
   "source": [
    "n_ref = 500\n",
    "fitted_rss_ref_corrected <- susie_rss(z_scores, R_ref, z_ld_weight = 1/n_ref, L = 10)\n",
    "susie_plot(fitted_rss_ref_corrected, y=\"PIP\", b=b)"
   ]
  },
  {
   "cell_type": "markdown",
   "id": "fa627403",
   "metadata": {},
   "source": [
    "**Question: Please compare and comment on the results using adjusted reference LD panel. Is the result improved?**"
   ]
  },
  {
   "cell_type": "markdown",
   "id": "fa93339b",
   "metadata": {},
   "source": [
    "# Exercise: fine-mapping analysis on a different data-set\n",
    "\n",
    "Please load and analyze another data-set provided in `susieR` package:"
   ]
  },
  {
   "cell_type": "code",
   "execution_count": 62,
   "id": "95057aa8",
   "metadata": {
    "tags": []
   },
   "outputs": [],
   "source": [
    "data(N2finemapping)"
   ]
  },
  {
   "cell_type": "markdown",
   "id": "8b2f1783",
   "metadata": {},
   "source": [
    "Please use the same R code for `N3finemapping` data to analyze this new data-set, similarly focusing on the first column of the phenotype matrix as the phenotype of interest. \n",
    "This data-set contains two true effect variables. However, as you are soon to find out in univariate linear regression analysis, **the lead SNP via univariate analysis is neither of the two effect variables**."
   ]
  },
  {
   "cell_type": "markdown",
   "id": "4ec83c5a-df6a-4093-afc8-72ceadaccf49",
   "metadata": {},
   "source": [
    "-------------------------------------------"
   ]
  },
  {
   "cell_type": "markdown",
   "id": "ffca2996-1a40-47e3-bc7b-55f20cdd59fc",
   "metadata": {},
   "source": [
    "**Question 13: please run `susie_rss` on the N2finemapping dataset and report the results below. Does it capture any true effect variant?**"
   ]
  },
  {
   "cell_type": "markdown",
   "id": "a378e666-252f-4a3b-9769-269fe7e84b2f",
   "metadata": {},
   "source": [
    "**Answer:**"
   ]
  },
  {
   "cell_type": "markdown",
   "id": "3c5b0084-ac02-4054-b667-d93d57e372b1",
   "metadata": {},
   "source": [
    "-------------------------------------------"
   ]
  },
  {
   "cell_type": "code",
   "execution_count": 68,
   "id": "0e037a23",
   "metadata": {
    "tags": []
   },
   "outputs": [
    {
     "data": {
      "text/plain": [
       "R version 4.3.1 (2023-06-16)\n",
       "Platform: x86_64-conda-linux-gnu (64-bit)\n",
       "Running under: Debian GNU/Linux 10 (buster)\n",
       "\n",
       "Matrix products: default\n",
       "BLAS/LAPACK: /mnt/vast/hpc/homes/rd2972/micromamba/envs/pisces-rabbit/lib/libopenblasp-r0.3.24.so;  LAPACK version 3.11.0\n",
       "\n",
       "locale:\n",
       " [1] LC_CTYPE=en_US.UTF-8       LC_NUMERIC=C              \n",
       " [3] LC_TIME=en_US.UTF-8        LC_COLLATE=en_US.UTF-8    \n",
       " [5] LC_MONETARY=en_US.UTF-8    LC_MESSAGES=en_US.UTF-8   \n",
       " [7] LC_PAPER=en_US.UTF-8       LC_NAME=C                 \n",
       " [9] LC_ADDRESS=C               LC_TELEPHONE=C            \n",
       "[11] LC_MEASUREMENT=en_US.UTF-8 LC_IDENTIFICATION=C       \n",
       "\n",
       "time zone: US/Eastern\n",
       "tzcode source: system (glibc)\n",
       "\n",
       "attached base packages:\n",
       "[1] stats     graphics  grDevices utils     datasets  methods   base     \n",
       "\n",
       "other attached packages:\n",
       "[1] susieR_0.12.40\n",
       "\n",
       "loaded via a namespace (and not attached):\n",
       " [1] Matrix_1.6-3       gtable_0.3.4       jsonlite_1.8.8     dplyr_1.1.4       \n",
       " [5] compiler_4.3.1     crayon_1.5.2       tidyselect_1.2.0   Rcpp_1.0.12       \n",
       " [9] IRdisplay_1.1      parallel_4.3.1     scales_1.3.0       uuid_1.1-1        \n",
       "[13] fastmap_1.1.1      IRkernel_1.3.2     lattice_0.22-5     ggplot2_3.4.4     \n",
       "[17] R6_2.5.1           plyr_1.8.9         generics_0.1.3     mixsqp_0.3-54     \n",
       "[21] tibble_3.2.1       RcppZiggurat_0.1.6 munsell_0.5.0      pillar_1.9.0      \n",
       "[25] rlang_1.1.2        utf8_1.2.4         reshape_0.8.9      repr_1.1.6        \n",
       "[29] RcppParallel_5.1.7 cli_3.6.2          magrittr_2.0.3     digest_0.6.34     \n",
       "[33] grid_4.3.1         irlba_2.3.5.1      base64enc_0.1-3    pbdZMQ_0.3-10     \n",
       "[37] lifecycle_1.0.4    vctrs_0.6.4        Rfast_2.1.0        evaluate_0.23     \n",
       "[41] glue_1.7.0         fansi_1.0.6        colorspace_2.1-0   matrixStats_1.1.0 \n",
       "[45] tools_4.3.1        pkgconfig_2.0.3    htmltools_0.5.7   "
      ]
     },
     "metadata": {},
     "output_type": "display_data"
    }
   ],
   "source": [
    "sessionInfo()"
   ]
  }
 ],
 "metadata": {
  "authors": [
   {
    "name": "Contact: Gao Wang (wang.gao@columbia.edu)"
   }
  ],
  "kernelspec": {
   "display_name": "R",
   "language": "R",
   "name": "ir"
  },
  "language_info": {
   "codemirror_mode": "r",
   "file_extension": ".r",
   "mimetype": "text/x-r-source",
   "name": "R",
   "pygments_lexer": "r",
   "version": "4.3.1"
  },
  "title": "Statistical fine-mapping in genetics association studies"
 },
 "nbformat": 4,
 "nbformat_minor": 5
}
