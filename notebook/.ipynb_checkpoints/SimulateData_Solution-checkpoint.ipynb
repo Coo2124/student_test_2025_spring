{
 "cells": [
  {
   "cell_type": "markdown",
   "id": "7fee0a8a-bc09-4a55-8dfc-d3ce30fa12d5",
   "metadata": {},
   "source": [
    "# UKBB analysis\n",
    "This section is to generate the test dataset for the UKBB analysis."
   ]
  },
  {
   "cell_type": "code",
   "execution_count": 195,
   "id": "f71456e2-a55e-435d-a55a-5d5b8599dda3",
   "metadata": {
    "tags": []
   },
   "outputs": [],
   "source": [
    "library(lubridate)\n",
    "library(readr)\n",
    "library(dplyr, warn.conflicts = FALSE)\n",
    "library(ggplot2)\n",
    "library(DT)\n",
    "library(tidyr)\n",
    "library(gtools)\n",
    "library(knitr)"
   ]
  },
  {
   "cell_type": "code",
   "execution_count": 196,
   "id": "2848f91d-5409-4064-8567-a8169265726f",
   "metadata": {
    "tags": []
   },
   "outputs": [],
   "source": [
    "N = 100000\n",
    "\n",
    "# Generate 6-digit random ID numbers\n",
    "id_numbers <- sample(100000:999999, N, replace = FALSE)\n",
    "\n",
    "sex <- sample(0:1, N, replace = TRUE)\n",
    "dob <- as.Date(runif(N, 50, 80) * 365, origin = \"1895-01-01\")\n",
    "\n",
    "toy_data <- data.frame(ID = id_numbers, Sex = sex, DOB = dob)\n",
    "toy_data$f.131057 <- 0\n",
    "\n",
    "# Assign NA to 80% of the population\n",
    "toy_data$f.131057[sample(1:N, N*0.80, replace = FALSE)] <- NA\n",
    "# Assign 50 to 85% of the remaining 5%\n",
    "toy_data$f.131057[sample(which(is.na(toy_data$f.131057)), N*0.20*0.85, replace = FALSE)] <- 50\n",
    "# Assign other numbers to the remaining individuals\n",
    "remaining_inds <- which(toy_data$f.131057==0)\n",
    "toy_data$f.131057[which(toy_data$f.131057==0)] <- sample(c(40,51), length(remaining_inds), replace = TRUE)\n",
    "\n",
    "toy_data<- toy_data %>%\n",
    "    mutate(f.131057.isvalid = ifelse(is.na(f.131057), 0, 1))\n",
    "\n",
    "generate_correlated_values <- function(input_values, correlation_value) {\n",
    "  n <- length(input_values)\n",
    "  z <- rnorm(n)\n",
    "  y <- correlation_value * input_values + sqrt(1 - correlation_value^2) * z\n",
    "  return(pmax(pmin(y, max(input_values)), min(input_values)))\n",
    "}\n",
    "\n",
    "# Generate \"f.131369\" column based on the correlation with \"f.131057\"\n",
    "correlation_value = 0.7\n",
    "toy_data$f.131369.isvalid <- generate_correlated_values(as.numeric(toy_data$f.131057.isvalid), correlation_value)\n",
    "toy_data$f.131369.tmp <- rbinom(nrow(toy_data), 1, toy_data$f.131369.isvalid)\n",
    "\n",
    "toy_data$f.131369 <- ifelse(toy_data$f.131369.tmp == 0, NA, \n",
    "                           ifelse(toy_data$f.131369.tmp == 1, \n",
    "                                  sample(c(40, 50, 51), sum(toy_data$f.131369.tmp == 1), \n",
    "                                         replace = TRUE, \n",
    "                                         prob = c(0.10, 0.85, 0.05)),\n",
    "                                  NA))"
   ]
  },
  {
   "cell_type": "code",
   "execution_count": 197,
   "id": "7afec0e9-2512-4ab0-bc43-81c4b008db54",
   "metadata": {
    "tags": []
   },
   "outputs": [
    {
     "name": "stderr",
     "output_type": "stream",
     "text": [
      "Warning message:\n",
      "“\u001b[1m\u001b[22mThere was 1 warning in `mutate()`.\n",
      "\u001b[1m\u001b[22m\u001b[36mℹ\u001b[39m In argument: `f.131056.0.0 = ifelse(...)`.\n",
      "Caused by warning in `runif()`:\n",
      "\u001b[33m!\u001b[39m NAs produced”\n",
      "Warning message:\n",
      "“\u001b[1m\u001b[22mThere was 1 warning in `mutate()`.\n",
      "\u001b[1m\u001b[22m\u001b[36mℹ\u001b[39m In argument: `f.131368.0.0 = ifelse(...)`.\n",
      "Caused by warning in `runif()`:\n",
      "\u001b[33m!\u001b[39m NAs produced”\n"
     ]
    }
   ],
   "source": [
    "toy_data <- toy_data %>%\n",
    "  select(!f.131369.isvalid & !f.131369.tmp) %>%\n",
    "  rename(f.131057.0.0 = f.131057, f.131369.0.0 = f.131369) %>%\n",
    "  mutate(\n",
    "    f.131056.0.0 = ifelse(!is.na(f.131057.0.0) & !is.na(DOB) & (DOB + years(30) <= as.Date(\"2020-01-01\")),\n",
    "      runif(sum(!is.na(f.131057.0.0)),\n",
    "        min = as.numeric(DOB + years(30)),\n",
    "        max = as.Date(\"2020-01-01\")\n",
    "      ),\n",
    "      NA\n",
    "    ),\n",
    "    f.131056.0.0 = as.Date(f.131056.0.0, origin = \"1970-01-01\"), # Assuming 1970 is the correct origin\n",
    "  ) %>%\n",
    "  mutate(\n",
    "    f.131368.0.0 = ifelse(!is.na(f.131369.0.0) & !is.na(DOB) & (DOB + years(40) <= as.Date(\"2020-01-01\")),\n",
    "      runif(sum(!is.na(f.131369.0.0)),\n",
    "        min = as.numeric(DOB + years(30)),\n",
    "        max = as.Date(\"2020-01-01\")\n",
    "      ),\n",
    "      NA\n",
    "    ),\n",
    "    f.131368.0.0 = as.Date(f.131368.0.0, origin = \"1970-01-01\"), # Assuming 1970 is the correct origin\n",
    "    f.31.0.0 = Sex,\n",
    "    f.33.0.0 = DOB\n",
    "  ) %>% select(!Sex & !DOB & !f.131057.isvalid)\n"
   ]
  },
  {
   "cell_type": "markdown",
   "id": "87fdbeb4-0a47-43c5-b294-74699e90fb76",
   "metadata": {},
   "source": [
    "## generate PRS"
   ]
  },
  {
   "cell_type": "code",
   "execution_count": 198,
   "id": "4a4ef31f-5a73-4b72-b22b-1925c5a6d97a",
   "metadata": {
    "tags": []
   },
   "outputs": [
    {
     "data": {
      "text/html": [
       "<table class=\"dataframe\">\n",
       "<caption>A data.frame: 3 × 10</caption>\n",
       "<thead>\n",
       "\t<tr><th></th><th scope=col>ID</th><th scope=col>f.131057.0.0</th><th scope=col>f.131369.0.0</th><th scope=col>f.131056.0.0</th><th scope=col>f.131368.0.0</th><th scope=col>f.31.0.0</th><th scope=col>f.33.0.0</th><th scope=col>PRS</th><th scope=col>pheno_tia</th><th scope=col>tia_PRS</th></tr>\n",
       "\t<tr><th></th><th scope=col>&lt;int&gt;</th><th scope=col>&lt;dbl&gt;</th><th scope=col>&lt;dbl&gt;</th><th scope=col>&lt;date&gt;</th><th scope=col>&lt;date&gt;</th><th scope=col>&lt;int&gt;</th><th scope=col>&lt;date&gt;</th><th scope=col>&lt;dbl&gt;</th><th scope=col>&lt;dbl&gt;</th><th scope=col>&lt;dbl&gt;</th></tr>\n",
       "</thead>\n",
       "<tbody>\n",
       "\t<tr><th scope=row>1</th><td>223492</td><td>40</td><td>50</td><td>1996-04-18</td><td>1993-12-17</td><td>0</td><td>1956-08-13</td><td> 0.9196382</td><td>1</td><td>0.6677752</td></tr>\n",
       "\t<tr><th scope=row>2</th><td>170302</td><td>51</td><td>50</td><td>2007-01-05</td><td>2017-05-30</td><td>0</td><td>1969-03-23</td><td> 0.4886010</td><td>1</td><td>0.5676163</td></tr>\n",
       "\t<tr><th scope=row>3</th><td>978597</td><td>40</td><td>NA</td><td>2018-06-06</td><td>NA</td><td>1</td><td>1964-08-19</td><td>-0.1028866</td><td>1</td><td>0.4301740</td></tr>\n",
       "</tbody>\n",
       "</table>\n"
      ],
      "text/latex": [
       "A data.frame: 3 × 10\n",
       "\\begin{tabular}{r|llllllllll}\n",
       "  & ID & f.131057.0.0 & f.131369.0.0 & f.131056.0.0 & f.131368.0.0 & f.31.0.0 & f.33.0.0 & PRS & pheno\\_tia & tia\\_PRS\\\\\n",
       "  & <int> & <dbl> & <dbl> & <date> & <date> & <int> & <date> & <dbl> & <dbl> & <dbl>\\\\\n",
       "\\hline\n",
       "\t1 & 223492 & 40 & 50 & 1996-04-18 & 1993-12-17 & 0 & 1956-08-13 &  0.9196382 & 1 & 0.6677752\\\\\n",
       "\t2 & 170302 & 51 & 50 & 2007-01-05 & 2017-05-30 & 0 & 1969-03-23 &  0.4886010 & 1 & 0.5676163\\\\\n",
       "\t3 & 978597 & 40 & NA & 2018-06-06 & NA & 1 & 1964-08-19 & -0.1028866 & 1 & 0.4301740\\\\\n",
       "\\end{tabular}\n"
      ],
      "text/markdown": [
       "\n",
       "A data.frame: 3 × 10\n",
       "\n",
       "| <!--/--> | ID &lt;int&gt; | f.131057.0.0 &lt;dbl&gt; | f.131369.0.0 &lt;dbl&gt; | f.131056.0.0 &lt;date&gt; | f.131368.0.0 &lt;date&gt; | f.31.0.0 &lt;int&gt; | f.33.0.0 &lt;date&gt; | PRS &lt;dbl&gt; | pheno_tia &lt;dbl&gt; | tia_PRS &lt;dbl&gt; |\n",
       "|---|---|---|---|---|---|---|---|---|---|---|\n",
       "| 1 | 223492 | 40 | 50 | 1996-04-18 | 1993-12-17 | 0 | 1956-08-13 |  0.9196382 | 1 | 0.6677752 |\n",
       "| 2 | 170302 | 51 | 50 | 2007-01-05 | 2017-05-30 | 0 | 1969-03-23 |  0.4886010 | 1 | 0.5676163 |\n",
       "| 3 | 978597 | 40 | NA | 2018-06-06 | NA | 1 | 1964-08-19 | -0.1028866 | 1 | 0.4301740 |\n",
       "\n"
      ],
      "text/plain": [
       "  ID     f.131057.0.0 f.131369.0.0 f.131056.0.0 f.131368.0.0 f.31.0.0\n",
       "1 223492 40           50           1996-04-18   1993-12-17   0       \n",
       "2 170302 51           50           2007-01-05   2017-05-30   0       \n",
       "3 978597 40           NA           2018-06-06   <NA>         1       \n",
       "  f.33.0.0   PRS        pheno_tia tia_PRS  \n",
       "1 1956-08-13  0.9196382 1         0.6677752\n",
       "2 1969-03-23  0.4886010 1         0.5676163\n",
       "3 1964-08-19 -0.1028866 1         0.4301740"
      ]
     },
     "metadata": {},
     "output_type": "display_data"
    }
   ],
   "source": [
    "toy_data_tia_PRS_cases <- toy_data %>% filter(!is.na(f.131056.0.0))\n",
    "toy_data_tia_PRS_ctrls <- toy_data %>% filter(is.na(f.131056.0.0))\n",
    "toy_data_tia_PRS_cases$PRS = rnorm(n=nrow(toy_data_tia_PRS_cases),mean=0.45,sd=0.3)\n",
    "toy_data_tia_PRS_cases$pheno_tia=1\n",
    "toy_data_tia_PRS_ctrls$PRS = rnorm(n=nrow(toy_data_tia_PRS_ctrls),mean=0.3,sd=0.5)\n",
    "toy_data_tia_PRS_ctrls$pheno_tia=0\n",
    "\n",
    "toy_data_tia_PRS = rbind(toy_data_tia_PRS_cases,toy_data_tia_PRS_ctrls)\n",
    "\n",
    "min_max_normalize <- function(x) {\n",
    "  (x - min(x, na.rm = TRUE)) / (max(x, na.rm = TRUE) - min(x, na.rm = TRUE))\n",
    "}\n",
    "\n",
    "# Normalize the specified column\n",
    "toy_data_tia_PRS$tia_PRS <- min_max_normalize(toy_data_tia_PRS$PRS)\n",
    "head(toy_data_tia_PRS,3)"
   ]
  },
  {
   "cell_type": "code",
   "execution_count": 199,
   "id": "ad62c929-72b7-4da0-aacb-b525b4c55db3",
   "metadata": {
    "tags": []
   },
   "outputs": [
    {
     "data": {
      "text/html": [
       "<table class=\"dataframe\">\n",
       "<caption>A data.frame: 3 × 3</caption>\n",
       "<thead>\n",
       "\t<tr><th></th><th scope=col>ID</th><th scope=col>TIA_PRS</th><th scope=col>stroke_PRS</th></tr>\n",
       "\t<tr><th></th><th scope=col>&lt;int&gt;</th><th scope=col>&lt;dbl&gt;</th><th scope=col>&lt;dbl&gt;</th></tr>\n",
       "</thead>\n",
       "<tbody>\n",
       "\t<tr><th scope=row>1</th><td>100019</td><td>0.5122019</td><td>0.6462786</td></tr>\n",
       "\t<tr><th scope=row>2</th><td>100020</td><td>0.4651557</td><td>0.6119447</td></tr>\n",
       "\t<tr><th scope=row>3</th><td>100030</td><td>0.6098361</td><td>0.5672038</td></tr>\n",
       "</tbody>\n",
       "</table>\n"
      ],
      "text/latex": [
       "A data.frame: 3 × 3\n",
       "\\begin{tabular}{r|lll}\n",
       "  & ID & TIA\\_PRS & stroke\\_PRS\\\\\n",
       "  & <int> & <dbl> & <dbl>\\\\\n",
       "\\hline\n",
       "\t1 & 100019 & 0.5122019 & 0.6462786\\\\\n",
       "\t2 & 100020 & 0.4651557 & 0.6119447\\\\\n",
       "\t3 & 100030 & 0.6098361 & 0.5672038\\\\\n",
       "\\end{tabular}\n"
      ],
      "text/markdown": [
       "\n",
       "A data.frame: 3 × 3\n",
       "\n",
       "| <!--/--> | ID &lt;int&gt; | TIA_PRS &lt;dbl&gt; | stroke_PRS &lt;dbl&gt; |\n",
       "|---|---|---|---|\n",
       "| 1 | 100019 | 0.5122019 | 0.6462786 |\n",
       "| 2 | 100020 | 0.4651557 | 0.6119447 |\n",
       "| 3 | 100030 | 0.6098361 | 0.5672038 |\n",
       "\n"
      ],
      "text/plain": [
       "  ID     TIA_PRS   stroke_PRS\n",
       "1 100019 0.5122019 0.6462786 \n",
       "2 100020 0.4651557 0.6119447 \n",
       "3 100030 0.6098361 0.5672038 "
      ]
     },
     "metadata": {},
     "output_type": "display_data"
    }
   ],
   "source": [
    "toy_data_stroke_PRS_cases <- toy_data %>% filter(!is.na(f.131368.0.0))\n",
    "toy_data_stroke_PRS_ctrls <- toy_data %>% filter(is.na(f.131368.0.0))\n",
    "toy_data_stroke_PRS_cases$PRS <- rnorm(n = nrow(toy_data_stroke_PRS_cases), mean = 0.6, sd = 0.3)\n",
    "toy_data_stroke_PRS_cases$pheno_stroke <- 1\n",
    "toy_data_stroke_PRS_ctrls$PRS <- rnorm(n = nrow(toy_data_stroke_PRS_ctrls), mean = 0.2, sd = 0.5)\n",
    "toy_data_stroke_PRS_ctrls$pheno_stroke <- 0\n",
    "\n",
    "toy_data_stroke_PRS <- rbind(toy_data_stroke_PRS_cases, toy_data_stroke_PRS_ctrls)\n",
    "\n",
    "# Normalize the specified column\n",
    "toy_data_stroke_PRS$stroke_PRS <- min_max_normalize(toy_data_stroke_PRS$PRS)\n",
    "\n",
    "toy_data_stroke_PRS <- toy_data_stroke_PRS %>% select(ID, stroke_PRS)\n",
    "\n",
    "toy_data_PRS <- merge(toy_data_tia_PRS, toy_data_stroke_PRS, by=\"ID\") %>% select(ID, tia_PRS, stroke_PRS) %>% rename(TIA_PRS=tia_PRS)\n",
    "head(toy_data_PRS,3)"
   ]
  },
  {
   "cell_type": "code",
   "execution_count": 200,
   "id": "233d4a71-f2ba-4abf-b5a1-77a8795644b8",
   "metadata": {
    "tags": []
   },
   "outputs": [],
   "source": [
    "write.table(toy_data, file = \"~/student_test_2024/data/UKBB_toy_data.tsv\", sep = \"\\t\", quote = FALSE, row.names = FALSE)\n",
    "write.table(toy_data_PRS, file = \"~/student_test_2024/data/UKBB_toy_data_PRS.tsv\", sep = \"\\t\", quote = FALSE, row.names = FALSE)"
   ]
  },
  {
   "cell_type": "markdown",
   "id": "9eeaa53f-24a5-4612-b696-ea6a36c4bf24",
   "metadata": {},
   "source": [
    "## results"
   ]
  },
  {
   "cell_type": "code",
   "execution_count": 201,
   "id": "c7923fdd-4a3e-43ad-9835-ac527ec7a008",
   "metadata": {
    "tags": []
   },
   "outputs": [],
   "source": [
    "toy_data = read.table(file = \"~/student_test_2024/data/UKBB_toy_data.tsv\", header=TRUE)"
   ]
  },
  {
   "cell_type": "code",
   "execution_count": 202,
   "id": "75b64ba9-f779-4015-bc64-c6f70ee505d4",
   "metadata": {},
   "outputs": [
    {
     "data": {
      "text/html": [
       "<table class=\"dataframe\">\n",
       "<caption>A data.frame: 3 × 7</caption>\n",
       "<thead>\n",
       "\t<tr><th></th><th scope=col>ID</th><th scope=col>f.131057.0.0</th><th scope=col>f.131369.0.0</th><th scope=col>f.131056.0.0</th><th scope=col>f.131368.0.0</th><th scope=col>f.31.0.0</th><th scope=col>f.33.0.0</th></tr>\n",
       "\t<tr><th></th><th scope=col>&lt;int&gt;</th><th scope=col>&lt;int&gt;</th><th scope=col>&lt;int&gt;</th><th scope=col>&lt;chr&gt;</th><th scope=col>&lt;chr&gt;</th><th scope=col>&lt;int&gt;</th><th scope=col>&lt;chr&gt;</th></tr>\n",
       "</thead>\n",
       "<tbody>\n",
       "\t<tr><th scope=row>1</th><td>223492</td><td>40</td><td>50</td><td>1996-04-18</td><td>1993-12-17</td><td>0</td><td>1956-08-13</td></tr>\n",
       "\t<tr><th scope=row>2</th><td>626493</td><td>NA</td><td>40</td><td>NA        </td><td>2012-08-25</td><td>1</td><td>1966-10-12</td></tr>\n",
       "\t<tr><th scope=row>3</th><td>231542</td><td>NA</td><td>NA</td><td>NA        </td><td>NA        </td><td>1</td><td>1973-03-04</td></tr>\n",
       "</tbody>\n",
       "</table>\n"
      ],
      "text/latex": [
       "A data.frame: 3 × 7\n",
       "\\begin{tabular}{r|lllllll}\n",
       "  & ID & f.131057.0.0 & f.131369.0.0 & f.131056.0.0 & f.131368.0.0 & f.31.0.0 & f.33.0.0\\\\\n",
       "  & <int> & <int> & <int> & <chr> & <chr> & <int> & <chr>\\\\\n",
       "\\hline\n",
       "\t1 & 223492 & 40 & 50 & 1996-04-18 & 1993-12-17 & 0 & 1956-08-13\\\\\n",
       "\t2 & 626493 & NA & 40 & NA         & 2012-08-25 & 1 & 1966-10-12\\\\\n",
       "\t3 & 231542 & NA & NA & NA         & NA         & 1 & 1973-03-04\\\\\n",
       "\\end{tabular}\n"
      ],
      "text/markdown": [
       "\n",
       "A data.frame: 3 × 7\n",
       "\n",
       "| <!--/--> | ID &lt;int&gt; | f.131057.0.0 &lt;int&gt; | f.131369.0.0 &lt;int&gt; | f.131056.0.0 &lt;chr&gt; | f.131368.0.0 &lt;chr&gt; | f.31.0.0 &lt;int&gt; | f.33.0.0 &lt;chr&gt; |\n",
       "|---|---|---|---|---|---|---|---|\n",
       "| 1 | 223492 | 40 | 50 | 1996-04-18 | 1993-12-17 | 0 | 1956-08-13 |\n",
       "| 2 | 626493 | NA | 40 | NA         | 2012-08-25 | 1 | 1966-10-12 |\n",
       "| 3 | 231542 | NA | NA | NA         | NA         | 1 | 1973-03-04 |\n",
       "\n"
      ],
      "text/plain": [
       "  ID     f.131057.0.0 f.131369.0.0 f.131056.0.0 f.131368.0.0 f.31.0.0\n",
       "1 223492 40           50           1996-04-18   1993-12-17   0       \n",
       "2 626493 NA           40           NA           2012-08-25   1       \n",
       "3 231542 NA           NA           NA           NA           1       \n",
       "  f.33.0.0  \n",
       "1 1956-08-13\n",
       "2 1966-10-12\n",
       "3 1973-03-04"
      ]
     },
     "metadata": {},
     "output_type": "display_data"
    }
   ],
   "source": [
    "head(toy_data,3)"
   ]
  },
  {
   "cell_type": "code",
   "execution_count": 203,
   "id": "38c84f8a-3770-4732-8662-a9c4b1654a64",
   "metadata": {
    "tags": []
   },
   "outputs": [
    {
     "name": "stdout",
     "output_type": "stream",
     "text": [
      "Average age of females: 64.0606 \n"
     ]
    }
   ],
   "source": [
    "tmp <- toy_data\n",
    "# Convert 'DOB' to Date class\n",
    "tmp$DOB <- as.Date(tmp$f.33.0.0)\n",
    "\n",
    "# Reference date\n",
    "reference_date <- as.Date('2024-01-01')\n",
    "\n",
    "# Calculate age\n",
    "tmp$Age <- as.numeric(difftime(reference_date, tmp$DOB, units = 'days')) / 365.25\n",
    "\n",
    "# Filter for females (Sex==0)\n",
    "female_data <- subset(tmp, f.31.0.0 == 0)\n",
    "\n",
    "# Calculate average age for females\n",
    "average_age_females <- mean(tmp$Age, na.rm = TRUE)\n",
    "\n",
    "cat(\"Average age of females:\", average_age_females, \"\\n\")"
   ]
  },
  {
   "cell_type": "code",
   "execution_count": 204,
   "id": "e7d60289-3a2f-4a4e-9a51-1dfcb04535a0",
   "metadata": {
    "tags": []
   },
   "outputs": [
    {
     "data": {
      "text/html": [
       "<style>\n",
       ".list-inline {list-style: none; margin:0; padding: 0}\n",
       ".list-inline>li {display: inline-block}\n",
       ".list-inline>li:not(:last-child)::after {content: \"\\00b7\"; padding: 0 .5ex}\n",
       "</style>\n",
       "<ol class=list-inline><li>100000</li><li>9</li></ol>\n"
      ],
      "text/latex": [
       "\\begin{enumerate*}\n",
       "\\item 100000\n",
       "\\item 9\n",
       "\\end{enumerate*}\n"
      ],
      "text/markdown": [
       "1. 100000\n",
       "2. 9\n",
       "\n",
       "\n"
      ],
      "text/plain": [
       "[1] 100000      9"
      ]
     },
     "metadata": {},
     "output_type": "display_data"
    },
    {
     "data": {
      "text/html": [
       "<style>\n",
       ".list-inline {list-style: none; margin:0; padding: 0}\n",
       ".list-inline>li {display: inline-block}\n",
       ".list-inline>li:not(:last-child)::after {content: \"\\00b7\"; padding: 0 .5ex}\n",
       "</style>\n",
       "<ol class=list-inline><li>49749</li><li>9</li></ol>\n"
      ],
      "text/latex": [
       "\\begin{enumerate*}\n",
       "\\item 49749\n",
       "\\item 9\n",
       "\\end{enumerate*}\n"
      ],
      "text/markdown": [
       "1. 49749\n",
       "2. 9\n",
       "\n",
       "\n"
      ],
      "text/plain": [
       "[1] 49749     9"
      ]
     },
     "metadata": {},
     "output_type": "display_data"
    }
   ],
   "source": [
    "dim(tmp)\n",
    "dim(female_data)"
   ]
  },
  {
   "cell_type": "code",
   "execution_count": 205,
   "id": "0bd6522d-a74d-4ad1-9083-c4b1ccf51cec",
   "metadata": {},
   "outputs": [
    {
     "data": {
      "text/html": [
       "0.082135523613963"
      ],
      "text/latex": [
       "0.082135523613963"
      ],
      "text/markdown": [
       "0.082135523613963"
      ],
      "text/plain": [
       "[1] 0.08213552"
      ]
     },
     "metadata": {},
     "output_type": "display_data"
    }
   ],
   "source": [
    "as.numeric(difftime(as.Date('2024-01-31'), as.Date('2024-01-01'), units = 'days')) / 365.25"
   ]
  },
  {
   "cell_type": "markdown",
   "id": "ed806676-9408-47d0-beab-6ad72cd33994",
   "metadata": {},
   "source": [
    "# MR analysis\n",
    "This section is to generate the test dataset for the Mendelian Randomization analysis."
   ]
  },
  {
   "cell_type": "code",
   "execution_count": 171,
   "id": "602f68fc-9148-48c4-8e21-a9d45fc2f18f",
   "metadata": {
    "tags": []
   },
   "outputs": [],
   "source": [
    "rm(list = ls())\n",
    "set.seed(123)\n",
    "\n",
    "n_individuals <- 1000  # Number of individuals\n",
    "n_snps <- 50  # Number of SNPs\n",
    "n_pleiotropic_snps <- 10  # Number of SNPs with direct effects on the outcome\n",
    "\n",
    "# Simulate genotypes for individuals\n",
    "genotypes <- matrix(rbinom(n_individuals * n_snps, 2, 0.3), nrow = n_individuals, ncol = n_snps)\n",
    "colnames(genotypes) <- paste0(\"rs\", 1:n_snps)  # SNP IDs\n",
    "\n",
    "# Simulate effect sizes for exposure\n",
    "beta_exp <- rnorm(n_snps, 0.1, 0.05)  # Effect sizes of SNPs on the exposure\n",
    "exposure <- genotypes %*% beta_exp + rnorm(n_individuals, 0, 1)  # Exposure with random noise\n",
    "\n",
    "# Simulate outcome\n",
    "beta_outcome <- 0.8  # True causal effect of exposure on outcome\n",
    "outcome <- exposure * beta_outcome + rnorm(n_individuals, 0.5, 0.04)  # Outcome values\n",
    "\n",
    "# Add pleiotropic effects\n",
    "pleiotropic_effects <- rnorm(n_pleiotropic_snps, 0.3, 0.2)  # Direct effect sizes on outcome\n",
    "pleiotropic_snps <- sample(1:n_snps, n_pleiotropic_snps)  # Randomly select SNPs to have direct effects\n",
    "\n",
    "# Increase the outcome by adding the effect of pleiotropic SNPs\n",
    "outcome <- outcome + genotypes[, pleiotropic_snps] %*% pleiotropic_effects\n",
    "\n",
    "# Introduce missing values in genotypes (5% missingness)\n",
    "set.seed(456)\n",
    "missing_genotypes <- matrix(runif(n_individuals * n_snps) < 0.05, nrow = n_individuals, ncol = n_snps)\n",
    "genotypes[missing_genotypes] <- NA\n",
    "\n",
    "# Simulate covariates (e.g., age, sex)\n",
    "age <- rnorm(n_individuals, 50, 10)  # Age with mean 50 and SD 10\n",
    "sex <- sample(c(\"Male\", \"Female\"), n_individuals, replace = TRUE)  # Sex\n",
    "\n",
    "# Create genotype data and add individual IDs\n",
    "genotype_data <- as.data.frame(genotypes)\n",
    "genotype_data$Individual_ID <- 1:n_individuals\n",
    "\n",
    "# Reorder columns to place Individual_ID first\n",
    "genotype_data <- genotype_data %>%\n",
    "  select(Individual_ID, everything())\n",
    "\n",
    "# Create phenotype data with covariates\n",
    "phenotype_data <- data.frame(\n",
    "  Individual_ID = 1:n_individuals, \n",
    "  Exposure = exposure, \n",
    "  Outcome = outcome,\n",
    "  Age = age,\n",
    "  Sex = sex\n",
    ")\n",
    "\n",
    "# Introduce missing values in exposure and outcome (3% missingness)\n",
    "set.seed(789)\n",
    "phenotype_data$Exposure[sample(1:n_individuals, size = 0.03 * n_individuals)] <- NA\n",
    "phenotype_data$Outcome[sample(1:n_individuals, size = 0.02 * n_individuals)] <- NA\n",
    "\n",
    "# Save genotype and phenotype data to CSV\n",
    "write.csv(genotype_data, \"~/student_test_2024/data/MR_genotype_data_with_missing.csv\", row.names = FALSE)\n",
    "write.csv(phenotype_data, \"~/student_test_2024/data/MR_phenotype_data_with_missing.csv\", row.names = FALSE)\n"
   ]
  },
  {
   "cell_type": "markdown",
   "id": "f6850bbf-f45f-45da-af62-2dbb62233b90",
   "metadata": {
    "tags": []
   },
   "source": [
    "## Results"
   ]
  },
  {
   "cell_type": "code",
   "execution_count": 172,
   "id": "9e08e786-b5aa-4c0e-ad68-8a1879df5e01",
   "metadata": {
    "tags": []
   },
   "outputs": [],
   "source": [
    "# Load the required libraries\n",
    "library(dplyr)\n",
    "library(TwoSampleMR)\n",
    "\n",
    "# Load genotype and phenotype data\n",
    "genotype_data <- read.csv(\"~/student_test_2024/data/MR_genotype_data_with_missing.csv\")\n",
    "phenotype_data <- read.csv(\"~/student_test_2024/data/MR_phenotype_data_with_missing.csv\")"
   ]
  },
  {
   "cell_type": "code",
   "execution_count": 173,
   "id": "5dc27a8b-8ba2-4cad-89a2-57d098f6bd09",
   "metadata": {
    "tags": []
   },
   "outputs": [
    {
     "data": {
      "text/plain": [
       " Individual_ID       Exposure          Outcome            Age       \n",
       " Min.   :   1.0   Min.   :-0.6112   Min.   :0.9027   Min.   :19.59  \n",
       " 1st Qu.: 250.8   1st Qu.: 2.2827   1st Qu.:3.4337   1st Qu.:42.95  \n",
       " Median : 500.5   Median : 3.0402   Median :4.2037   Median :49.43  \n",
       " Mean   : 500.5   Mean   : 3.0274   Mean   :4.2127   Mean   :49.65  \n",
       " 3rd Qu.: 750.2   3rd Qu.: 3.7557   3rd Qu.:4.9467   3rd Qu.:56.64  \n",
       " Max.   :1000.0   Max.   : 6.8861   Max.   :8.3812   Max.   :78.32  \n",
       "                  NA's   :30        NA's   :20                      \n",
       "     Sex           \n",
       " Length:1000       \n",
       " Class :character  \n",
       " Mode  :character  \n",
       "                   \n",
       "                   \n",
       "                   \n",
       "                   "
      ]
     },
     "metadata": {},
     "output_type": "display_data"
    }
   ],
   "source": [
    "# Q1. missingness in phenotype data\n",
    "summary(phenotype_data)"
   ]
  },
  {
   "cell_type": "code",
   "execution_count": 174,
   "id": "e84b2d8f-4ccc-4faf-a8a9-a38bf8960920",
   "metadata": {
    "tags": []
   },
   "outputs": [
    {
     "data": {
      "text/plain": [
       " Individual_ID       Exposure          Outcome            Age       \n",
       " Min.   :   1.0   Min.   :-0.6112   Min.   :0.9027   Min.   :19.59  \n",
       " 1st Qu.: 250.8   1st Qu.: 2.3032   1st Qu.:3.4515   1st Qu.:42.95  \n",
       " Median : 500.5   Median : 3.0274   Median :4.2127   Median :49.43  \n",
       " Mean   : 500.5   Mean   : 3.0274   Mean   :4.2127   Mean   :49.65  \n",
       " 3rd Qu.: 750.2   3rd Qu.: 3.7167   3rd Qu.:4.9221   3rd Qu.:56.64  \n",
       " Max.   :1000.0   Max.   : 6.8861   Max.   :8.3812   Max.   :78.32  \n",
       "     Sex           \n",
       " Length:1000       \n",
       " Class :character  \n",
       " Mode  :character  \n",
       "                   \n",
       "                   \n",
       "                   "
      ]
     },
     "metadata": {},
     "output_type": "display_data"
    }
   ],
   "source": [
    "# Q2: Mode imputation for genotype and mean imputation for phenotype data\n",
    "mode_function <- function(x) {\n",
    "  ux <- na.omit(x)  # Remove NA values\n",
    "  uniq_ux <- unique(ux)  # Unique values\n",
    "  tab <- table(ux)  # Frequency table\n",
    "  uniq_ux[which.max(tab)]  # Return the mode\n",
    "}\n",
    "\n",
    "# Impute missing values with the mode for each SNP column\n",
    "for (col in colnames(genotype_data)[-1]) {  # Exclude the Individual_ID column\n",
    "  mode_value <- mode_function(genotype_data[[col]])\n",
    "  genotype_data[[col]][is.na(genotype_data[[col]])] <- mode_value\n",
    "}\n",
    "\n",
    "# Impute missing values with the mean for Exposure and Outcome\n",
    "phenotype_data$Exposure[is.na(phenotype_data$Exposure)] <- mean(phenotype_data$Exposure, na.rm = TRUE)\n",
    "phenotype_data$Outcome[is.na(phenotype_data$Outcome)] <- mean(phenotype_data$Outcome, na.rm = TRUE)\n",
    "summary(phenotype_data) # average age after imputation: 49.65"
   ]
  },
  {
   "cell_type": "code",
   "execution_count": 175,
   "id": "14a995fc-1782-4d98-8508-85fa8769772e",
   "metadata": {
    "tags": []
   },
   "outputs": [
    {
     "name": "stdout",
     "output_type": "stream",
     "text": [
      "Number of variants with p < 0.01: 17 \n"
     ]
    }
   ],
   "source": [
    "# Q3: Initialize a data frame to store SNP-exposure results\n",
    "snp_exposure_results <- data.frame(SNP = colnames(genotype_data)[-1],  # Exclude Individual_ID column\n",
    "                                    Beta = numeric(ncol(genotype_data) - 1),\n",
    "                                    SE = numeric(ncol(genotype_data) - 1))\n",
    "\n",
    "# Loop through each SNP column (excluding Individual_ID)\n",
    "for (snp in colnames(genotype_data)[-1]) {\n",
    "  # Extract genotype data for the current SNP\n",
    "  genotype <- genotype_data[[snp]]\n",
    "  \n",
    "  # Extract exposure data\n",
    "  exposure <- phenotype_data$Exposure\n",
    "  \n",
    "  # Perform linear regression: exposure ~ genotype\n",
    "  fit <- lm(exposure ~ genotype)\n",
    "  \n",
    "  # Store the effect size (coefficient) and standard error\n",
    "  snp_exposure_results$Beta[snp_exposure_results$SNP == snp] <- coef(fit)[2]\n",
    "  snp_exposure_results$SE[snp_exposure_results$SNP == snp] <- summary(fit)$coefficients[2, 2]\n",
    "}\n",
    "# Using a two-tailed test, p-value is calculated as 2 * (1 - pnorm(|beta| / SE))\n",
    "snp_exposure_results <- snp_exposure_results %>%\n",
    "  mutate(p_value = 2 * (1 - pnorm(abs(Beta) / SE)))\n",
    "\n",
    "# Count the number of variants with p < 0.05\n",
    "num_significant_variants <- sum(snp_exposure_results$p_value < 0.01)\n",
    "\n",
    "# Print the result\n",
    "cat(\"Number of variants with p < 0.01:\", num_significant_variants, \"\\n\")"
   ]
  },
  {
   "cell_type": "code",
   "execution_count": 176,
   "id": "a0151d53-1192-4610-bee8-c0d853069a0c",
   "metadata": {
    "tags": []
   },
   "outputs": [],
   "source": [
    "# Q4 SNP-outcome\n",
    "snp_outcome_results <- data.frame(SNP = colnames(genotype_data)[-1],\n",
    "                                   Beta = numeric(ncol(genotype_data) - 1),\n",
    "                                   SE = numeric(ncol(genotype_data) - 1),\n",
    "                                   p_value = numeric(ncol(genotype_data) - 1))\n",
    "\n",
    "for (snp in colnames(genotype_data)[-1]) {\n",
    "  genotype <- genotype_data[[snp]]\n",
    "  outcome <- phenotype_data$Outcome\n",
    "  fit <- lm(outcome ~ genotype)\n",
    "  snp_outcome_results$Beta[snp_outcome_results$SNP == snp] <- coef(fit)[2]\n",
    "  snp_outcome_results$SE[snp_outcome_results$SNP == snp] <- summary(fit)$coefficients[2, 2]\n",
    "  snp_outcome_results$p_value[snp_outcome_results$SNP == snp] <- summary(fit)$coefficients[2, 4]\n",
    "}"
   ]
  },
  {
   "cell_type": "code",
   "execution_count": 177,
   "id": "09af0201-a042-494c-a968-78ddc5d8f3b0",
   "metadata": {
    "tags": []
   },
   "outputs": [],
   "source": [
    "# run 2-sample MR\n",
    "library(MendelianRandomization)\n",
    "merged_results <- merge(snp_exposure_results, snp_outcome_results, by = \"SNP\", suffixes = c(\"_exposure\", \"_outcome\"))"
   ]
  },
  {
   "cell_type": "code",
   "execution_count": 178,
   "id": "60f82923-896d-48c4-b045-8b181a10b884",
   "metadata": {
    "tags": []
   },
   "outputs": [
    {
     "data": {
      "text/plain": [
       "\n",
       "Inverse-variance weighted method\n",
       "(variants uncorrelated, random-effect model)\n",
       "\n",
       "Number of Variants : 50 \n",
       "\n",
       "------------------------------------------------------------------\n",
       " Method Estimate Std Error 95% CI       p-value\n",
       "    IVW    1.111     0.142 0.832, 1.390   0.000\n",
       "------------------------------------------------------------------\n",
       "Residual standard error =  2.210 \n",
       "Heterogeneity test statistic (Cochran's Q) = 239.3613 on 49 degrees of freedom, (p-value = 0.0000). I^2 = 79.5%. \n",
       "F statistic = 5.2. "
      ]
     },
     "metadata": {},
     "output_type": "display_data"
    }
   ],
   "source": [
    "# Perform MR-IVW (Inverse Variance Weighting)\n",
    "ivw_results <- mr_ivw(mr_input(bx=merged_results$Beta_exposure, bxse=merged_results$SE_exposure, \n",
    "                               by=merged_results$Beta_outcome, byse=merged_results$SE_outcome))\n",
    "ivw_results"
   ]
  },
  {
   "cell_type": "code",
   "execution_count": 179,
   "id": "2e1e9d4a-cacc-42cc-9999-90a7f1f5387c",
   "metadata": {
    "tags": []
   },
   "outputs": [
    {
     "data": {
      "text/plain": [
       "\n",
       "MR-Egger method\n",
       "(variants uncorrelated, random-effect model)\n",
       "\n",
       "Number of Variants =  50 \n",
       "\n",
       "------------------------------------------------------------------\n",
       "      Method Estimate Std Error  95% CI       p-value\n",
       "    MR-Egger    0.607     0.300  0.020, 1.195   0.043\n",
       " (intercept)    0.068     0.036 -0.002, 0.139   0.058\n",
       "------------------------------------------------------------------\n",
       "Residual Standard Error :  2.154 \n",
       "Heterogeneity test statistic = 222.7053 on 48 degrees of freedom, (p-value = 0.0000)\n",
       "I^2_GX statistic: 7.6%"
      ]
     },
     "metadata": {},
     "output_type": "display_data"
    }
   ],
   "source": [
    "# Perform MR-Egger\n",
    "egger_results <- mr_egger(mr_input(bx=merged_results$Beta_exposure, bxse=merged_results$SE_exposure, \n",
    "                               by=merged_results$Beta_outcome, byse=merged_results$SE_outcome))\n",
    "egger_results"
   ]
  },
  {
   "cell_type": "code",
   "execution_count": 192,
   "id": "e45083a9-68f4-4d8f-9c04-d9cfe339ab2d",
   "metadata": {
    "tags": []
   },
   "outputs": [],
   "source": [
    "res = mr_allmethods(mr_input(bx=merged_results$Beta_exposure, bxse=merged_results$SE_exposure, \n",
    "                               by=merged_results$Beta_outcome, byse=merged_results$SE_outcome), method = \"main\")"
   ]
  },
  {
   "cell_type": "code",
   "execution_count": 193,
   "id": "1be5ba63-9645-4bee-8abb-87a71554b374",
   "metadata": {
    "tags": []
   },
   "outputs": [
    {
     "data": {
      "text/plain": [
       "          Method Estimate Std Error 95% CI        P-value\n",
       "   Simple median    0.923     0.128   0.672 1.174   0.000\n",
       " Weighted median    0.904     0.121   0.667 1.142   0.000\n",
       "             IVW    1.111     0.142   0.832 1.390   0.000\n",
       "        MR-Egger    0.607     0.300   0.020 1.195   0.043\n",
       "     (intercept)    0.068     0.036  -0.002 0.139   0.058"
      ]
     },
     "metadata": {},
     "output_type": "display_data"
    }
   ],
   "source": [
    "res"
   ]
  },
  {
   "cell_type": "code",
   "execution_count": 194,
   "id": "ee074deb-7904-4fa1-9e8a-caea9696efff",
   "metadata": {
    "tags": []
   },
   "outputs": [
    {
     "data": {
      "image/png": "[encoded data removed]",
      "text/plain": [
       "plot without title"
      ]
     },
     "metadata": {
      "image/png": {
       "height": 420,
       "width": 420
      }
     },
     "output_type": "display_data"
    }
   ],
   "source": [
    "mr_plot(res)"
   ]
  },
  {
   "cell_type": "code",
   "execution_count": null,
   "id": "d8c1dd15-d5bc-4081-94f8-66ff3d4b1b88",
   "metadata": {},
   "outputs": [],
   "source": []
  }
 ],
 "metadata": {
  "kernelspec": {
   "display_name": "R",
   "language": "R",
   "name": "ir"
  },
  "language_info": {
   "codemirror_mode": "r",
   "file_extension": ".r",
   "mimetype": "text/x-r-source",
   "name": "R",
   "pygments_lexer": "r",
   "version": "4.3.1"
  }
 },
 "nbformat": 4,
 "nbformat_minor": 5
}
