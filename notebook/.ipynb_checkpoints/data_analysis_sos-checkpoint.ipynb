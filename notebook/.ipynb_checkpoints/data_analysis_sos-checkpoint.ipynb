{
 "cells": [
  {
   "cell_type": "markdown",
   "id": "c6b74ae1-ebe3-49d4-8fcb-e7885d5c4aa7",
   "metadata": {
    "kernel": "SoS",
    "tags": []
   },
   "source": [
    "# Overview\n",
    "\n",
    "Script of Scripts (SoS) is a scripting language designed for the execution of workflows that involve the analysis of data in multiple languages. It allows the integration of scripts written in various languages, providing a unified and flexible environment for data analysis.\n",
    "\n"
   ]
  }
 ],
 "metadata": {
  "kernelspec": {
   "display_name": "SoS",
   "language": "sos",
   "name": "sos"
  },
  "language_info": {
   "codemirror_mode": "sos",
   "file_extension": ".sos",
   "mimetype": "text/x-sos",
   "name": "sos",
   "nbconvert_exporter": "sos_notebook.converter.SoS_Exporter",
   "pygments_lexer": "sos"
  },
  "sos": {
   "kernels": [
    [
     "SoS",
     "sos",
     "",
     ""
    ]
   ],
   "version": "0.24.3"
  }
 },
 "nbformat": 4,
 "nbformat_minor": 5
}
