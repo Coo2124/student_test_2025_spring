{
 "cells": [
  {
   "cell_type": "markdown",
   "id": "7fee0a8a-bc09-4a55-8dfc-d3ce30fa12d5",
   "metadata": {},
   "source": [
    "# Overview\n",
    "\n",
    "This notebook is to generate the test dataset for the UKBB analysis."
   ]
  },
  {
   "cell_type": "code",
   "execution_count": 92,
   "id": "f71456e2-a55e-435d-a55a-5d5b8599dda3",
   "metadata": {
    "tags": []
   },
   "outputs": [],
   "source": [
    "library(readr)\n",
    "library(dplyr, warn.conflicts = FALSE)\n",
    "library(ggplot2)\n",
    "library(DT)\n",
    "library(tidyr)\n",
    "library(gtools)\n",
    "library(knitr)"
   ]
  },
  {
   "cell_type": "code",
   "execution_count": 93,
   "id": "2848f91d-5409-4064-8567-a8169265726f",
   "metadata": {
    "tags": []
   },
   "outputs": [],
   "source": [
    "N = 100000\n",
    "\n",
    "# Generate 6-digit random ID numbers\n",
    "id_numbers <- sample(100000:999999, N, replace = FALSE)\n",
    "\n",
    "# Generate sex information (0 or 1)\n",
    "sex <- sample(0:1, N, replace = TRUE)\n",
    "\n",
    "dob <- as.Date(runif(N, 50, 80) * 365, origin = \"1895-01-01\")\n",
    "\n",
    "# Create a data frame\n",
    "toy_data <- data.frame(ID = id_numbers, Sex = sex, DOB = dob)\n",
    "\n",
    "# Generate \"f.42009\" column based on the specified distribution\n",
    "toy_data$f.42009 <- 0\n",
    "\n",
    "# Assign NA to 95% of the population\n",
    "toy_data$f.42009[sample(1:N, N*0.95, replace = FALSE)] <- NA\n",
    "\n",
    "# Assign 11 to 85% of the remaining 5%\n",
    "toy_data$f.42009[sample(which(is.na(toy_data$f.42009)), N*0.05*0.85, replace = FALSE)] <- 11\n",
    "\n",
    "# Assign 21 to 5% of the remaining 5%\n",
    "toy_data$f.42009[sample(which(is.na(toy_data$f.42009)), N*0.05*0.10, replace = FALSE)] <- 21\n",
    "\n",
    "# Assign other numbers to the remaining individuals\n",
    "remaining_inds <- which(toy_data$f.42009==0)\n",
    "toy_data$f.42009[sample(remaining_inds, length(remaining_inds), replace = TRUE)] <- sample(c(0, 1, 2, 12, 22), length(remaining_inds), replace = TRUE)\n",
    "toy_data$f.42009 <- as.character(toy_data$f.42009)\n",
    "toy_data<- toy_data %>%\n",
    "    mutate(f.42009.isvalid = ifelse(is.na(f.42009), 0, 1))\n"
   ]
  },
  {
   "cell_type": "code",
   "execution_count": 94,
   "id": "cab7fb76-f1c1-4f1d-ac0b-1ffb7d327548",
   "metadata": {
    "tags": []
   },
   "outputs": [],
   "source": [
    "# Function to generate correlated values\n",
    "generate_correlated_values <- function(input_values, correlation_value) {\n",
    "  n <- length(input_values)\n",
    "  z <- rnorm(n)\n",
    "  y <- correlation_value * input_values + sqrt(1 - correlation_value^2) * z\n",
    "  return(pmax(pmin(y, max(input_values)), min(input_values)))\n",
    "}\n",
    "\n",
    "# Generate \"f.42007\" column based on the correlation with \"f.42009\"\n",
    "toy_data$f.42007.isvalid <- generate_correlated_values(as.numeric(toy_data$f.42009.isvalid), correlation_value)\n",
    "toy_data$f.42007.tmp <- rbinom(nrow(toy_data), 1, toy_data$f.42007.isvalid)"
   ]
  },
  {
   "cell_type": "code",
   "execution_count": 95,
   "id": "f52341ea-c10f-4564-ac21-86c89de9a15d",
   "metadata": {
    "tags": []
   },
   "outputs": [],
   "source": [
    "# Assuming 'toy_data' is your data frame and 'f.42007.tmp' is your binary column\n",
    "toy_data$f.42007 <- ifelse(toy_data$f.42007.tmp == 0, NA, \n",
    "                           ifelse(toy_data$f.42007.tmp == 1, \n",
    "                                  sample(c(0, 1, 2, 11, 12, 21, 22), sum(toy_data$f.42007.tmp == 1), \n",
    "                                         replace = TRUE, prob = c(0.01, 0.02, 0.03, 0.85, 0.01, 0.10, 0.01)),\n",
    "                                  NA))"
   ]
  },
  {
   "cell_type": "code",
   "execution_count": null,
   "id": "7afec0e9-2512-4ab0-bc43-81c4b008db54",
   "metadata": {
    "tags": []
   },
   "outputs": [],
   "source": [
    "toy_data <- toy_data %>% select(ID, Sex, DOB, f.42009, f.42007) %>%\n",
    "    rename(f.31.0.0 = Sex, f.33.0.0 = DOB, f.42009.0.0 = f.42009, f.42007.0.0=f.42007)\n",
    "   "
   ]
  },
  {
   "cell_type": "code",
   "execution_count": 99,
   "id": "11bc8758-f47e-4ff8-86d0-99f34b9bc3d5",
   "metadata": {
    "tags": []
   },
   "outputs": [
    {
     "data": {
      "text/html": [
       "<table class=\"dataframe\">\n",
       "<caption>A data.frame: 6 × 5</caption>\n",
       "<thead>\n",
       "\t<tr><th></th><th scope=col>ID</th><th scope=col>f.31.0.0</th><th scope=col>f.33.0.0</th><th scope=col>f.42009.0.0</th><th scope=col>f.42007.0.0</th></tr>\n",
       "\t<tr><th></th><th scope=col>&lt;int&gt;</th><th scope=col>&lt;int&gt;</th><th scope=col>&lt;date&gt;</th><th scope=col>&lt;chr&gt;</th><th scope=col>&lt;dbl&gt;</th></tr>\n",
       "</thead>\n",
       "<tbody>\n",
       "\t<tr><th scope=row>1</th><td>633627</td><td>0</td><td>1966-10-26</td><td>NA</td><td>NA</td></tr>\n",
       "\t<tr><th scope=row>2</th><td>542438</td><td>0</td><td>1962-08-23</td><td>NA</td><td>NA</td></tr>\n",
       "\t<tr><th scope=row>3</th><td>727287</td><td>1</td><td>1966-02-14</td><td>NA</td><td>NA</td></tr>\n",
       "\t<tr><th scope=row>4</th><td>355926</td><td>1</td><td>1951-06-24</td><td>NA</td><td>NA</td></tr>\n",
       "\t<tr><th scope=row>5</th><td>714555</td><td>0</td><td>1952-06-02</td><td>NA</td><td>NA</td></tr>\n",
       "\t<tr><th scope=row>6</th><td>194930</td><td>0</td><td>1971-07-21</td><td>NA</td><td>NA</td></tr>\n",
       "</tbody>\n",
       "</table>\n"
      ],
      "text/latex": [
       "A data.frame: 6 × 5\n",
       "\\begin{tabular}{r|lllll}\n",
       "  & ID & f.31.0.0 & f.33.0.0 & f.42009.0.0 & f.42007.0.0\\\\\n",
       "  & <int> & <int> & <date> & <chr> & <dbl>\\\\\n",
       "\\hline\n",
       "\t1 & 633627 & 0 & 1966-10-26 & NA & NA\\\\\n",
       "\t2 & 542438 & 0 & 1962-08-23 & NA & NA\\\\\n",
       "\t3 & 727287 & 1 & 1966-02-14 & NA & NA\\\\\n",
       "\t4 & 355926 & 1 & 1951-06-24 & NA & NA\\\\\n",
       "\t5 & 714555 & 0 & 1952-06-02 & NA & NA\\\\\n",
       "\t6 & 194930 & 0 & 1971-07-21 & NA & NA\\\\\n",
       "\\end{tabular}\n"
      ],
      "text/markdown": [
       "\n",
       "A data.frame: 6 × 5\n",
       "\n",
       "| <!--/--> | ID &lt;int&gt; | f.31.0.0 &lt;int&gt; | f.33.0.0 &lt;date&gt; | f.42009.0.0 &lt;chr&gt; | f.42007.0.0 &lt;dbl&gt; |\n",
       "|---|---|---|---|---|---|\n",
       "| 1 | 633627 | 0 | 1966-10-26 | NA | NA |\n",
       "| 2 | 542438 | 0 | 1962-08-23 | NA | NA |\n",
       "| 3 | 727287 | 1 | 1966-02-14 | NA | NA |\n",
       "| 4 | 355926 | 1 | 1951-06-24 | NA | NA |\n",
       "| 5 | 714555 | 0 | 1952-06-02 | NA | NA |\n",
       "| 6 | 194930 | 0 | 1971-07-21 | NA | NA |\n",
       "\n"
      ],
      "text/plain": [
       "  ID     f.31.0.0 f.33.0.0   f.42009.0.0 f.42007.0.0\n",
       "1 633627 0        1966-10-26 NA          NA         \n",
       "2 542438 0        1962-08-23 NA          NA         \n",
       "3 727287 1        1966-02-14 NA          NA         \n",
       "4 355926 1        1951-06-24 NA          NA         \n",
       "5 714555 0        1952-06-02 NA          NA         \n",
       "6 194930 0        1971-07-21 NA          NA         "
      ]
     },
     "metadata": {},
     "output_type": "display_data"
    }
   ],
   "source": [
    "head(toy_data)  "
   ]
  },
  {
   "cell_type": "code",
   "execution_count": 100,
   "id": "233d4a71-f2ba-4abf-b5a1-77a8795644b8",
   "metadata": {
    "tags": []
   },
   "outputs": [],
   "source": [
    "write.table(toy_data, file = \"~/student_test_2024/data/toy_data.tsv\", sep = \"\\t\", quote = FALSE, row.names = FALSE)\n"
   ]
  },
  {
   "cell_type": "code",
   "execution_count": null,
   "id": "2c7c2a42-0926-4499-8451-de3341936c8c",
   "metadata": {},
   "outputs": [],
   "source": []
  }
 ],
 "metadata": {
  "kernelspec": {
   "display_name": "R",
   "language": "R",
   "name": "ir"
  },
  "language_info": {
   "codemirror_mode": "r",
   "file_extension": ".r",
   "mimetype": "text/x-r-source",
   "name": "R",
   "pygments_lexer": "r",
   "version": "4.3.1"
  }
 },
 "nbformat": 4,
 "nbformat_minor": 5
}
