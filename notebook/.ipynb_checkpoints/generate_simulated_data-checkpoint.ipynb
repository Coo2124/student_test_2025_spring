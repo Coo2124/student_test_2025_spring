{
 "cells": [
  {
   "cell_type": "markdown",
   "id": "7fee0a8a-bc09-4a55-8dfc-d3ce30fa12d5",
   "metadata": {},
   "source": [
    "# Overview\n",
    "\n",
    "This notebook is to generate the test dataset for the UKBB analysis."
   ]
  },
  {
   "cell_type": "code",
   "execution_count": 23,
   "id": "f71456e2-a55e-435d-a55a-5d5b8599dda3",
   "metadata": {
    "tags": []
   },
   "outputs": [],
   "source": [
    "library(lubridate)\n",
    "library(readr)\n",
    "library(dplyr, warn.conflicts = FALSE)\n",
    "library(ggplot2)\n",
    "library(DT)\n",
    "library(tidyr)\n",
    "library(gtools)\n",
    "library(knitr)"
   ]
  },
  {
   "cell_type": "code",
   "execution_count": 24,
   "id": "2848f91d-5409-4064-8567-a8169265726f",
   "metadata": {
    "tags": []
   },
   "outputs": [],
   "source": [
    "N = 100000\n",
    "\n",
    "# Generate 6-digit random ID numbers\n",
    "id_numbers <- sample(100000:999999, N, replace = FALSE)\n",
    "\n",
    "sex <- sample(0:1, N, replace = TRUE)\n",
    "dob <- as.Date(runif(N, 50, 80) * 365, origin = \"1895-01-01\")\n",
    "\n",
    "toy_data <- data.frame(ID = id_numbers, Sex = sex, DOB = dob)\n",
    "toy_data$f.131057 <- 0\n",
    "\n",
    "# Assign NA to 80% of the population\n",
    "toy_data$f.131057[sample(1:N, N*0.80, replace = FALSE)] <- NA\n",
    "# Assign 50 to 85% of the remaining 5%\n",
    "toy_data$f.131057[sample(which(is.na(toy_data$f.131057)), N*0.20*0.85, replace = FALSE)] <- 50\n",
    "# Assign other numbers to the remaining individuals\n",
    "remaining_inds <- which(toy_data$f.131057==0)\n",
    "toy_data$f.131057[which(toy_data$f.131057==0)] <- sample(c(40,51), length(remaining_inds), replace = TRUE)\n",
    "\n",
    "toy_data<- toy_data %>%\n",
    "    mutate(f.131057.isvalid = ifelse(is.na(f.131057), 0, 1))\n",
    "\n",
    "generate_correlated_values <- function(input_values, correlation_value) {\n",
    "  n <- length(input_values)\n",
    "  z <- rnorm(n)\n",
    "  y <- correlation_value * input_values + sqrt(1 - correlation_value^2) * z\n",
    "  return(pmax(pmin(y, max(input_values)), min(input_values)))\n",
    "}\n",
    "\n",
    "# Generate \"f.131369\" column based on the correlation with \"f.131057\"\n",
    "correlation_value = 0.7\n",
    "toy_data$f.131369.isvalid <- generate_correlated_values(as.numeric(toy_data$f.131057.isvalid), correlation_value)\n",
    "toy_data$f.131369.tmp <- rbinom(nrow(toy_data), 1, toy_data$f.131369.isvalid)\n",
    "\n",
    "toy_data$f.131369 <- ifelse(toy_data$f.131369.tmp == 0, NA, \n",
    "                           ifelse(toy_data$f.131369.tmp == 1, \n",
    "                                  sample(c(40, 50, 51), sum(toy_data$f.131369.tmp == 1), \n",
    "                                         replace = TRUE, \n",
    "                                         prob = c(0.10, 0.85, 0.05)),\n",
    "                                  NA))"
   ]
  },
  {
   "cell_type": "code",
   "execution_count": 25,
   "id": "7afec0e9-2512-4ab0-bc43-81c4b008db54",
   "metadata": {
    "tags": []
   },
   "outputs": [
    {
     "name": "stderr",
     "output_type": "stream",
     "text": [
      "Warning message:\n",
      "“\u001b[1m\u001b[22mThere was 1 warning in `mutate()`.\n",
      "\u001b[1m\u001b[22m\u001b[36mℹ\u001b[39m In argument: `f.131056.0.0 = ifelse(...)`.\n",
      "Caused by warning in `runif()`:\n",
      "\u001b[33m!\u001b[39m NAs produced”\n",
      "Warning message:\n",
      "“\u001b[1m\u001b[22mThere was 1 warning in `mutate()`.\n",
      "\u001b[1m\u001b[22m\u001b[36mℹ\u001b[39m In argument: `f.131368.0.0 = ifelse(...)`.\n",
      "Caused by warning in `runif()`:\n",
      "\u001b[33m!\u001b[39m NAs produced”\n"
     ]
    }
   ],
   "source": [
    "toy_data <- toy_data %>%\n",
    "  select(!f.131369.isvalid & !f.131369.tmp) %>%\n",
    "  rename(f.131057.0.0 = f.131057, f.131369.0.0 = f.131369) %>%\n",
    "  mutate(\n",
    "    f.131056.0.0 = ifelse(!is.na(f.131057.0.0) & !is.na(DOB) & (DOB + years(30) <= as.Date(\"2020-01-01\")),\n",
    "      runif(sum(!is.na(f.131057.0.0)),\n",
    "        min = as.numeric(DOB + years(30)),\n",
    "        max = as.Date(\"2020-01-01\")\n",
    "      ),\n",
    "      NA\n",
    "    ),\n",
    "    f.131056.0.0 = as.Date(f.131056.0.0, origin = \"1970-01-01\"), # Assuming 1970 is the correct origin\n",
    "  ) %>%\n",
    "  mutate(\n",
    "    f.131368.0.0 = ifelse(!is.na(f.131369.0.0) & !is.na(DOB) & (DOB + years(40) <= as.Date(\"2020-01-01\")),\n",
    "      runif(sum(!is.na(f.131369.0.0)),\n",
    "        min = as.numeric(DOB + years(30)),\n",
    "        max = as.Date(\"2020-01-01\")\n",
    "      ),\n",
    "      NA\n",
    "    ),\n",
    "    f.131368.0.0 = as.Date(f.131368.0.0, origin = \"1970-01-01\"), # Assuming 1970 is the correct origin\n",
    "    f.31.0.0 = Sex,\n",
    "    f.33.0.0 = DOB\n",
    "  ) %>% select(!Sex & !DOB & !f.131057.isvalid)\n"
   ]
  },
  {
   "cell_type": "markdown",
   "id": "87fdbeb4-0a47-43c5-b294-74699e90fb76",
   "metadata": {},
   "source": [
    "## generate PRS"
   ]
  },
  {
   "cell_type": "code",
   "execution_count": 26,
   "id": "4a4ef31f-5a73-4b72-b22b-1925c5a6d97a",
   "metadata": {
    "tags": []
   },
   "outputs": [
    {
     "data": {
      "text/html": [
       "<table class=\"dataframe\">\n",
       "<caption>A data.frame: 6 × 10</caption>\n",
       "<thead>\n",
       "\t<tr><th></th><th scope=col>ID</th><th scope=col>f.131057.0.0</th><th scope=col>f.131369.0.0</th><th scope=col>f.131056.0.0</th><th scope=col>f.131368.0.0</th><th scope=col>f.31.0.0</th><th scope=col>f.33.0.0</th><th scope=col>PRS</th><th scope=col>pheno_tia</th><th scope=col>tia_PRS</th></tr>\n",
       "\t<tr><th></th><th scope=col>&lt;int&gt;</th><th scope=col>&lt;dbl&gt;</th><th scope=col>&lt;dbl&gt;</th><th scope=col>&lt;date&gt;</th><th scope=col>&lt;date&gt;</th><th scope=col>&lt;int&gt;</th><th scope=col>&lt;date&gt;</th><th scope=col>&lt;dbl&gt;</th><th scope=col>&lt;dbl&gt;</th><th scope=col>&lt;dbl&gt;</th></tr>\n",
       "</thead>\n",
       "<tbody>\n",
       "\t<tr><th scope=row>1</th><td>801313</td><td>51</td><td>50</td><td>1993-02-09</td><td>2008-07-22</td><td>0</td><td>1958-10-12</td><td>0.6254465</td><td>1</td><td>0.6224815</td></tr>\n",
       "\t<tr><th scope=row>2</th><td>954457</td><td>40</td><td>NA</td><td>2003-08-16</td><td>NA</td><td>0</td><td>1973-02-09</td><td>0.8187297</td><td>1</td><td>0.6665039</td></tr>\n",
       "\t<tr><th scope=row>3</th><td>164775</td><td>51</td><td>50</td><td>1992-08-03</td><td>2000-02-10</td><td>1</td><td>1960-12-15</td><td>0.3274813</td><td>1</td><td>0.5546166</td></tr>\n",
       "\t<tr><th scope=row>4</th><td>154999</td><td>50</td><td>51</td><td>1991-05-26</td><td>2015-09-27</td><td>1</td><td>1952-12-25</td><td>0.1698612</td><td>1</td><td>0.5187169</td></tr>\n",
       "\t<tr><th scope=row>5</th><td>253947</td><td>50</td><td>NA</td><td>2016-04-15</td><td>NA</td><td>0</td><td>1949-12-18</td><td>0.2569444</td><td>1</td><td>0.5385510</td></tr>\n",
       "\t<tr><th scope=row>6</th><td>797431</td><td>51</td><td>50</td><td>2008-07-06</td><td>2015-11-02</td><td>0</td><td>1963-05-22</td><td>0.4804860</td><td>1</td><td>0.5894651</td></tr>\n",
       "</tbody>\n",
       "</table>\n"
      ],
      "text/latex": [
       "A data.frame: 6 × 10\n",
       "\\begin{tabular}{r|llllllllll}\n",
       "  & ID & f.131057.0.0 & f.131369.0.0 & f.131056.0.0 & f.131368.0.0 & f.31.0.0 & f.33.0.0 & PRS & pheno\\_tia & tia\\_PRS\\\\\n",
       "  & <int> & <dbl> & <dbl> & <date> & <date> & <int> & <date> & <dbl> & <dbl> & <dbl>\\\\\n",
       "\\hline\n",
       "\t1 & 801313 & 51 & 50 & 1993-02-09 & 2008-07-22 & 0 & 1958-10-12 & 0.6254465 & 1 & 0.6224815\\\\\n",
       "\t2 & 954457 & 40 & NA & 2003-08-16 & NA & 0 & 1973-02-09 & 0.8187297 & 1 & 0.6665039\\\\\n",
       "\t3 & 164775 & 51 & 50 & 1992-08-03 & 2000-02-10 & 1 & 1960-12-15 & 0.3274813 & 1 & 0.5546166\\\\\n",
       "\t4 & 154999 & 50 & 51 & 1991-05-26 & 2015-09-27 & 1 & 1952-12-25 & 0.1698612 & 1 & 0.5187169\\\\\n",
       "\t5 & 253947 & 50 & NA & 2016-04-15 & NA & 0 & 1949-12-18 & 0.2569444 & 1 & 0.5385510\\\\\n",
       "\t6 & 797431 & 51 & 50 & 2008-07-06 & 2015-11-02 & 0 & 1963-05-22 & 0.4804860 & 1 & 0.5894651\\\\\n",
       "\\end{tabular}\n"
      ],
      "text/markdown": [
       "\n",
       "A data.frame: 6 × 10\n",
       "\n",
       "| <!--/--> | ID &lt;int&gt; | f.131057.0.0 &lt;dbl&gt; | f.131369.0.0 &lt;dbl&gt; | f.131056.0.0 &lt;date&gt; | f.131368.0.0 &lt;date&gt; | f.31.0.0 &lt;int&gt; | f.33.0.0 &lt;date&gt; | PRS &lt;dbl&gt; | pheno_tia &lt;dbl&gt; | tia_PRS &lt;dbl&gt; |\n",
       "|---|---|---|---|---|---|---|---|---|---|---|\n",
       "| 1 | 801313 | 51 | 50 | 1993-02-09 | 2008-07-22 | 0 | 1958-10-12 | 0.6254465 | 1 | 0.6224815 |\n",
       "| 2 | 954457 | 40 | NA | 2003-08-16 | NA | 0 | 1973-02-09 | 0.8187297 | 1 | 0.6665039 |\n",
       "| 3 | 164775 | 51 | 50 | 1992-08-03 | 2000-02-10 | 1 | 1960-12-15 | 0.3274813 | 1 | 0.5546166 |\n",
       "| 4 | 154999 | 50 | 51 | 1991-05-26 | 2015-09-27 | 1 | 1952-12-25 | 0.1698612 | 1 | 0.5187169 |\n",
       "| 5 | 253947 | 50 | NA | 2016-04-15 | NA | 0 | 1949-12-18 | 0.2569444 | 1 | 0.5385510 |\n",
       "| 6 | 797431 | 51 | 50 | 2008-07-06 | 2015-11-02 | 0 | 1963-05-22 | 0.4804860 | 1 | 0.5894651 |\n",
       "\n"
      ],
      "text/plain": [
       "  ID     f.131057.0.0 f.131369.0.0 f.131056.0.0 f.131368.0.0 f.31.0.0\n",
       "1 801313 51           50           1993-02-09   2008-07-22   0       \n",
       "2 954457 40           NA           2003-08-16   <NA>         0       \n",
       "3 164775 51           50           1992-08-03   2000-02-10   1       \n",
       "4 154999 50           51           1991-05-26   2015-09-27   1       \n",
       "5 253947 50           NA           2016-04-15   <NA>         0       \n",
       "6 797431 51           50           2008-07-06   2015-11-02   0       \n",
       "  f.33.0.0   PRS       pheno_tia tia_PRS  \n",
       "1 1958-10-12 0.6254465 1         0.6224815\n",
       "2 1973-02-09 0.8187297 1         0.6665039\n",
       "3 1960-12-15 0.3274813 1         0.5546166\n",
       "4 1952-12-25 0.1698612 1         0.5187169\n",
       "5 1949-12-18 0.2569444 1         0.5385510\n",
       "6 1963-05-22 0.4804860 1         0.5894651"
      ]
     },
     "metadata": {},
     "output_type": "display_data"
    }
   ],
   "source": [
    "toy_data_tia_PRS_cases <- toy_data %>% filter(!is.na(f.131056.0.0))\n",
    "toy_data_tia_PRS_ctrls <- toy_data %>% filter(is.na(f.131056.0.0))\n",
    "toy_data_tia_PRS_cases$PRS = rnorm(n=nrow(toy_data_tia_PRS_cases),mean=0.45,sd=0.3)\n",
    "toy_data_tia_PRS_cases$pheno_tia=1\n",
    "toy_data_tia_PRS_ctrls$PRS = rnorm(n=nrow(toy_data_tia_PRS_ctrls),mean=0.3,sd=0.5)\n",
    "toy_data_tia_PRS_ctrls$pheno_tia=0\n",
    "\n",
    "toy_data_tia_PRS = rbind(toy_data_tia_PRS_cases,toy_data_tia_PRS_ctrls)\n",
    "\n",
    "min_max_normalize <- function(x) {\n",
    "  (x - min(x, na.rm = TRUE)) / (max(x, na.rm = TRUE) - min(x, na.rm = TRUE))\n",
    "}\n",
    "\n",
    "# Normalize the specified column\n",
    "toy_data_tia_PRS$tia_PRS <- min_max_normalize(toy_data_tia_PRS$PRS)\n",
    "head(toy_data_tia_PRS)\n",
    "# toy_data_PRS <- toy_data_PRS %>% select(ID, PRS"
   ]
  },
  {
   "cell_type": "code",
   "execution_count": 27,
   "id": "ad62c929-72b7-4da0-aacb-b525b4c55db3",
   "metadata": {
    "tags": []
   },
   "outputs": [
    {
     "data": {
      "text/html": [
       "<table class=\"dataframe\">\n",
       "<caption>A data.frame: 6 × 3</caption>\n",
       "<thead>\n",
       "\t<tr><th></th><th scope=col>ID</th><th scope=col>TIA_PRS</th><th scope=col>stroke_PRS</th></tr>\n",
       "\t<tr><th></th><th scope=col>&lt;int&gt;</th><th scope=col>&lt;dbl&gt;</th><th scope=col>&lt;dbl&gt;</th></tr>\n",
       "</thead>\n",
       "<tbody>\n",
       "\t<tr><th scope=row>1</th><td>100001</td><td>0.6158974</td><td>0.6632883</td></tr>\n",
       "\t<tr><th scope=row>2</th><td>100015</td><td>0.4871903</td><td>0.4553924</td></tr>\n",
       "\t<tr><th scope=row>3</th><td>100026</td><td>0.6650735</td><td>0.3139749</td></tr>\n",
       "\t<tr><th scope=row>4</th><td>100029</td><td>0.7336656</td><td>0.5454911</td></tr>\n",
       "\t<tr><th scope=row>5</th><td>100041</td><td>0.5156590</td><td>0.4313858</td></tr>\n",
       "\t<tr><th scope=row>6</th><td>100042</td><td>0.4936058</td><td>0.5155710</td></tr>\n",
       "</tbody>\n",
       "</table>\n"
      ],
      "text/latex": [
       "A data.frame: 6 × 3\n",
       "\\begin{tabular}{r|lll}\n",
       "  & ID & TIA\\_PRS & stroke\\_PRS\\\\\n",
       "  & <int> & <dbl> & <dbl>\\\\\n",
       "\\hline\n",
       "\t1 & 100001 & 0.6158974 & 0.6632883\\\\\n",
       "\t2 & 100015 & 0.4871903 & 0.4553924\\\\\n",
       "\t3 & 100026 & 0.6650735 & 0.3139749\\\\\n",
       "\t4 & 100029 & 0.7336656 & 0.5454911\\\\\n",
       "\t5 & 100041 & 0.5156590 & 0.4313858\\\\\n",
       "\t6 & 100042 & 0.4936058 & 0.5155710\\\\\n",
       "\\end{tabular}\n"
      ],
      "text/markdown": [
       "\n",
       "A data.frame: 6 × 3\n",
       "\n",
       "| <!--/--> | ID &lt;int&gt; | TIA_PRS &lt;dbl&gt; | stroke_PRS &lt;dbl&gt; |\n",
       "|---|---|---|---|\n",
       "| 1 | 100001 | 0.6158974 | 0.6632883 |\n",
       "| 2 | 100015 | 0.4871903 | 0.4553924 |\n",
       "| 3 | 100026 | 0.6650735 | 0.3139749 |\n",
       "| 4 | 100029 | 0.7336656 | 0.5454911 |\n",
       "| 5 | 100041 | 0.5156590 | 0.4313858 |\n",
       "| 6 | 100042 | 0.4936058 | 0.5155710 |\n",
       "\n"
      ],
      "text/plain": [
       "  ID     TIA_PRS   stroke_PRS\n",
       "1 100001 0.6158974 0.6632883 \n",
       "2 100015 0.4871903 0.4553924 \n",
       "3 100026 0.6650735 0.3139749 \n",
       "4 100029 0.7336656 0.5454911 \n",
       "5 100041 0.5156590 0.4313858 \n",
       "6 100042 0.4936058 0.5155710 "
      ]
     },
     "metadata": {},
     "output_type": "display_data"
    }
   ],
   "source": [
    "toy_data_stroke_PRS_cases <- toy_data %>% filter(!is.na(f.131368.0.0))\n",
    "toy_data_stroke_PRS_ctrls <- toy_data %>% filter(is.na(f.131368.0.0))\n",
    "toy_data_stroke_PRS_cases$PRS <- rnorm(n = nrow(toy_data_stroke_PRS_cases), mean = 0.6, sd = 0.3)\n",
    "toy_data_stroke_PRS_cases$pheno_stroke <- 1\n",
    "toy_data_stroke_PRS_ctrls$PRS <- rnorm(n = nrow(toy_data_stroke_PRS_ctrls), mean = 0.2, sd = 0.5)\n",
    "toy_data_stroke_PRS_ctrls$pheno_stroke <- 0\n",
    "\n",
    "toy_data_stroke_PRS <- rbind(toy_data_stroke_PRS_cases, toy_data_stroke_PRS_ctrls)\n",
    "\n",
    "# Normalize the specified column\n",
    "toy_data_stroke_PRS$stroke_PRS <- min_max_normalize(toy_data_stroke_PRS$PRS)\n",
    "\n",
    "toy_data_stroke_PRS <- toy_data_stroke_PRS %>% select(ID, stroke_PRS)\n",
    "\n",
    "toy_data_PRS <- merge(toy_data_tia_PRS, toy_data_stroke_PRS, by=\"ID\") %>% select(ID, tia_PRS, stroke_PRS) %>% rename(TIA_PRS=tia_PRS)\n",
    "head(toy_data_PRS)\n",
    "# toy_data_PRS <- toy_data_PRS %>% select(ID, "
   ]
  },
  {
   "cell_type": "code",
   "execution_count": 28,
   "id": "233d4a71-f2ba-4abf-b5a1-77a8795644b8",
   "metadata": {
    "tags": []
   },
   "outputs": [],
   "source": [
    "write.table(toy_data, file = \"~/student_test_2024/data/toy_data.tsv\", sep = \"\\t\", quote = FALSE, row.names = FALSE)\n",
    "write.table(toy_data_PRS, file = \"~/student_test_2024/data/toy_data_PRS.tsv\", sep = \"\\t\", quote = FALSE, row.names = FALSE)"
   ]
  },
  {
   "cell_type": "markdown",
   "id": "9eeaa53f-24a5-4612-b696-ea6a36c4bf24",
   "metadata": {},
   "source": [
    "# results"
   ]
  },
  {
   "cell_type": "code",
   "execution_count": 36,
   "id": "c7923fdd-4a3e-43ad-9835-ac527ec7a008",
   "metadata": {
    "tags": []
   },
   "outputs": [],
   "source": [
    "toy_data = read.table(file = \"~/student_test_2024/data/toy_data.tsv\", header=TRUE)\n"
   ]
  },
  {
   "cell_type": "code",
   "execution_count": 37,
   "id": "75b64ba9-f779-4015-bc64-c6f70ee505d4",
   "metadata": {},
   "outputs": [
    {
     "data": {
      "text/html": [
       "<table class=\"dataframe\">\n",
       "<caption>A data.frame: 6 × 7</caption>\n",
       "<thead>\n",
       "\t<tr><th></th><th scope=col>ID</th><th scope=col>f.131057.0.0</th><th scope=col>f.131369.0.0</th><th scope=col>f.131056.0.0</th><th scope=col>f.131368.0.0</th><th scope=col>f.31.0.0</th><th scope=col>f.33.0.0</th></tr>\n",
       "\t<tr><th></th><th scope=col>&lt;int&gt;</th><th scope=col>&lt;int&gt;</th><th scope=col>&lt;int&gt;</th><th scope=col>&lt;chr&gt;</th><th scope=col>&lt;chr&gt;</th><th scope=col>&lt;int&gt;</th><th scope=col>&lt;chr&gt;</th></tr>\n",
       "</thead>\n",
       "<tbody>\n",
       "\t<tr><th scope=row>1</th><td>801313</td><td>51</td><td>50</td><td>1993-02-09</td><td>2008-07-22</td><td>0</td><td>1958-10-12</td></tr>\n",
       "\t<tr><th scope=row>2</th><td>959469</td><td>NA</td><td>NA</td><td>NA        </td><td>NA        </td><td>1</td><td>1948-01-22</td></tr>\n",
       "\t<tr><th scope=row>3</th><td>954457</td><td>40</td><td>NA</td><td>2003-08-16</td><td>NA        </td><td>0</td><td>1973-02-09</td></tr>\n",
       "\t<tr><th scope=row>4</th><td>711984</td><td>NA</td><td>NA</td><td>NA        </td><td>NA        </td><td>1</td><td>1951-09-08</td></tr>\n",
       "\t<tr><th scope=row>5</th><td>881953</td><td>NA</td><td>50</td><td>NA        </td><td>2018-06-04</td><td>1</td><td>1951-01-21</td></tr>\n",
       "\t<tr><th scope=row>6</th><td>782180</td><td>NA</td><td>50</td><td>NA        </td><td>2016-05-29</td><td>1</td><td>1974-05-14</td></tr>\n",
       "</tbody>\n",
       "</table>\n"
      ],
      "text/latex": [
       "A data.frame: 6 × 7\n",
       "\\begin{tabular}{r|lllllll}\n",
       "  & ID & f.131057.0.0 & f.131369.0.0 & f.131056.0.0 & f.131368.0.0 & f.31.0.0 & f.33.0.0\\\\\n",
       "  & <int> & <int> & <int> & <chr> & <chr> & <int> & <chr>\\\\\n",
       "\\hline\n",
       "\t1 & 801313 & 51 & 50 & 1993-02-09 & 2008-07-22 & 0 & 1958-10-12\\\\\n",
       "\t2 & 959469 & NA & NA & NA         & NA         & 1 & 1948-01-22\\\\\n",
       "\t3 & 954457 & 40 & NA & 2003-08-16 & NA         & 0 & 1973-02-09\\\\\n",
       "\t4 & 711984 & NA & NA & NA         & NA         & 1 & 1951-09-08\\\\\n",
       "\t5 & 881953 & NA & 50 & NA         & 2018-06-04 & 1 & 1951-01-21\\\\\n",
       "\t6 & 782180 & NA & 50 & NA         & 2016-05-29 & 1 & 1974-05-14\\\\\n",
       "\\end{tabular}\n"
      ],
      "text/markdown": [
       "\n",
       "A data.frame: 6 × 7\n",
       "\n",
       "| <!--/--> | ID &lt;int&gt; | f.131057.0.0 &lt;int&gt; | f.131369.0.0 &lt;int&gt; | f.131056.0.0 &lt;chr&gt; | f.131368.0.0 &lt;chr&gt; | f.31.0.0 &lt;int&gt; | f.33.0.0 &lt;chr&gt; |\n",
       "|---|---|---|---|---|---|---|---|\n",
       "| 1 | 801313 | 51 | 50 | 1993-02-09 | 2008-07-22 | 0 | 1958-10-12 |\n",
       "| 2 | 959469 | NA | NA | NA         | NA         | 1 | 1948-01-22 |\n",
       "| 3 | 954457 | 40 | NA | 2003-08-16 | NA         | 0 | 1973-02-09 |\n",
       "| 4 | 711984 | NA | NA | NA         | NA         | 1 | 1951-09-08 |\n",
       "| 5 | 881953 | NA | 50 | NA         | 2018-06-04 | 1 | 1951-01-21 |\n",
       "| 6 | 782180 | NA | 50 | NA         | 2016-05-29 | 1 | 1974-05-14 |\n",
       "\n"
      ],
      "text/plain": [
       "  ID     f.131057.0.0 f.131369.0.0 f.131056.0.0 f.131368.0.0 f.31.0.0\n",
       "1 801313 51           50           1993-02-09   2008-07-22   0       \n",
       "2 959469 NA           NA           NA           NA           1       \n",
       "3 954457 40           NA           2003-08-16   NA           0       \n",
       "4 711984 NA           NA           NA           NA           1       \n",
       "5 881953 NA           50           NA           2018-06-04   1       \n",
       "6 782180 NA           50           NA           2016-05-29   1       \n",
       "  f.33.0.0  \n",
       "1 1958-10-12\n",
       "2 1948-01-22\n",
       "3 1973-02-09\n",
       "4 1951-09-08\n",
       "5 1951-01-21\n",
       "6 1974-05-14"
      ]
     },
     "metadata": {},
     "output_type": "display_data"
    }
   ],
   "source": [
    "head(toy_data)"
   ]
  },
  {
   "cell_type": "code",
   "execution_count": 38,
   "id": "38c84f8a-3770-4732-8662-a9c4b1654a64",
   "metadata": {
    "tags": []
   },
   "outputs": [
    {
     "name": "stdout",
     "output_type": "stream",
     "text": [
      "Average age of females: 64.00236 \n"
     ]
    }
   ],
   "source": [
    "tmp <- toy_data\n",
    "# Convert 'DOB' to Date class\n",
    "tmp$DOB <- as.Date(tmp$f.33.0.0)\n",
    "\n",
    "# Reference date\n",
    "reference_date <- as.Date('2024-01-01')\n",
    "\n",
    "# Calculate age\n",
    "tmp$Age <- as.numeric(difftime(reference_date, tmp$DOB, units = 'days')) / 365.25\n",
    "\n",
    "# Filter for females (Sex==0)\n",
    "female_data <- subset(tmp, f.31.0.0 == 0)\n",
    "\n",
    "# Calculate average age for females\n",
    "average_age_females <- mean(tmp$Age, na.rm = TRUE)\n",
    "\n",
    "cat(\"Average age of females:\", average_age_females, \"\\n\")"
   ]
  },
  {
   "cell_type": "code",
   "execution_count": 33,
   "id": "e7d60289-3a2f-4a4e-9a51-1dfcb04535a0",
   "metadata": {
    "tags": []
   },
   "outputs": [
    {
     "data": {
      "text/html": [
       "<style>\n",
       ".list-inline {list-style: none; margin:0; padding: 0}\n",
       ".list-inline>li {display: inline-block}\n",
       ".list-inline>li:not(:last-child)::after {content: \"\\00b7\"; padding: 0 .5ex}\n",
       "</style>\n",
       "<ol class=list-inline><li>100000</li><li>9</li></ol>\n"
      ],
      "text/latex": [
       "\\begin{enumerate*}\n",
       "\\item 100000\n",
       "\\item 9\n",
       "\\end{enumerate*}\n"
      ],
      "text/markdown": [
       "1. 100000\n",
       "2. 9\n",
       "\n",
       "\n"
      ],
      "text/plain": [
       "[1] 100000      9"
      ]
     },
     "metadata": {},
     "output_type": "display_data"
    },
    {
     "data": {
      "text/html": [
       "<style>\n",
       ".list-inline {list-style: none; margin:0; padding: 0}\n",
       ".list-inline>li {display: inline-block}\n",
       ".list-inline>li:not(:last-child)::after {content: \"\\00b7\"; padding: 0 .5ex}\n",
       "</style>\n",
       "<ol class=list-inline><li>50185</li><li>9</li></ol>\n"
      ],
      "text/latex": [
       "\\begin{enumerate*}\n",
       "\\item 50185\n",
       "\\item 9\n",
       "\\end{enumerate*}\n"
      ],
      "text/markdown": [
       "1. 50185\n",
       "2. 9\n",
       "\n",
       "\n"
      ],
      "text/plain": [
       "[1] 50185     9"
      ]
     },
     "metadata": {},
     "output_type": "display_data"
    }
   ],
   "source": [
    "dim(tmp)\n",
    "dim(female_data)"
   ]
  },
  {
   "cell_type": "code",
   "execution_count": null,
   "id": "0bd6522d-a74d-4ad1-9083-c4b1ccf51cec",
   "metadata": {},
   "outputs": [],
   "source": []
  }
 ],
 "metadata": {
  "kernelspec": {
   "display_name": "R",
   "language": "R",
   "name": "ir"
  },
  "language_info": {
   "codemirror_mode": "r",
   "file_extension": ".r",
   "mimetype": "text/x-r-source",
   "name": "R",
   "pygments_lexer": "r",
   "version": "4.3.1"
  }
 },
 "nbformat": 4,
 "nbformat_minor": 5
}
