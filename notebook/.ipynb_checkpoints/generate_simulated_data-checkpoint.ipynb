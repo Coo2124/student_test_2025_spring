{
 "cells": [
  {
   "cell_type": "markdown",
   "id": "7fee0a8a-bc09-4a55-8dfc-d3ce30fa12d5",
   "metadata": {},
   "source": [
    "# Overview\n",
    "\n",
    "This notebook is to generate the test dataset for the UKBB analysis."
   ]
  },
  {
   "cell_type": "code",
   "execution_count": 247,
   "id": "f71456e2-a55e-435d-a55a-5d5b8599dda3",
   "metadata": {
    "tags": []
   },
   "outputs": [],
   "source": [
    "library(lubridate)\n",
    "library(readr)\n",
    "library(dplyr, warn.conflicts = FALSE)\n",
    "library(ggplot2)\n",
    "library(DT)\n",
    "library(tidyr)\n",
    "library(gtools)\n",
    "library(knitr)"
   ]
  },
  {
   "cell_type": "code",
   "execution_count": 248,
   "id": "2848f91d-5409-4064-8567-a8169265726f",
   "metadata": {
    "tags": []
   },
   "outputs": [],
   "source": [
    "N = 100000\n",
    "\n",
    "# Generate 6-digit random ID numbers\n",
    "id_numbers <- sample(100000:999999, N, replace = FALSE)\n",
    "\n",
    "sex <- sample(0:1, N, replace = TRUE)\n",
    "dob <- as.Date(runif(N, 50, 80) * 365, origin = \"1895-01-01\")\n",
    "\n",
    "toy_data <- data.frame(ID = id_numbers, Sex = sex, DOB = dob)\n",
    "toy_data$f.131057 <- 0\n",
    "\n",
    "# Assign NA to 80% of the population\n",
    "toy_data$f.131057[sample(1:N, N*0.80, replace = FALSE)] <- NA\n",
    "# Assign 50 to 85% of the remaining 5%\n",
    "toy_data$f.131057[sample(which(is.na(toy_data$f.131057)), N*0.20*0.85, replace = FALSE)] <- 50\n",
    "# Assign other numbers to the remaining individuals\n",
    "remaining_inds <- which(toy_data$f.131057==0)\n",
    "toy_data$f.131057[which(toy_data$f.131057==0)] <- sample(c(40,51), length(remaining_inds), replace = TRUE)\n",
    "\n",
    "toy_data<- toy_data %>%\n",
    "    mutate(f.131057.isvalid = ifelse(is.na(f.131057), 0, 1))\n",
    "\n",
    "generate_correlated_values <- function(input_values, correlation_value) {\n",
    "  n <- length(input_values)\n",
    "  z <- rnorm(n)\n",
    "  y <- correlation_value * input_values + sqrt(1 - correlation_value^2) * z\n",
    "  return(pmax(pmin(y, max(input_values)), min(input_values)))\n",
    "}\n",
    "\n",
    "# Generate \"f.131369\" column based on the correlation with \"f.131057\"\n",
    "toy_data$f.131369.isvalid <- generate_correlated_values(as.numeric(toy_data$f.131057.isvalid), correlation_value)\n",
    "toy_data$f.131369.tmp <- rbinom(nrow(toy_data), 1, toy_data$f.131369.isvalid)\n",
    "\n",
    "toy_data$f.131369 <- ifelse(toy_data$f.131369.tmp == 0, NA, \n",
    "                           ifelse(toy_data$f.131369.tmp == 1, \n",
    "                                  sample(c(40, 50, 51), sum(toy_data$f.131369.tmp == 1), \n",
    "                                         replace = TRUE, \n",
    "                                         prob = c(0.10, 0.85, 0.05)),\n",
    "                                  NA))"
   ]
  },
  {
   "cell_type": "code",
   "execution_count": 249,
   "id": "7afec0e9-2512-4ab0-bc43-81c4b008db54",
   "metadata": {
    "tags": []
   },
   "outputs": [
    {
     "name": "stderr",
     "output_type": "stream",
     "text": [
      "Warning message:\n",
      "“\u001b[1m\u001b[22mThere was 1 warning in `mutate()`.\n",
      "\u001b[1m\u001b[22m\u001b[36mℹ\u001b[39m In argument: `f.131056.0.0 = ifelse(...)`.\n",
      "Caused by warning in `runif()`:\n",
      "\u001b[33m!\u001b[39m NAs produced”\n",
      "Warning message:\n",
      "“\u001b[1m\u001b[22mThere was 1 warning in `mutate()`.\n",
      "\u001b[1m\u001b[22m\u001b[36mℹ\u001b[39m In argument: `f.131368.0.0 = ifelse(...)`.\n",
      "Caused by warning in `runif()`:\n",
      "\u001b[33m!\u001b[39m NAs produced”\n"
     ]
    }
   ],
   "source": [
    "toy_data <- toy_data %>%\n",
    "  select(!f.131369.isvalid & !f.131369.tmp) %>%\n",
    "  rename(f.131057.0.0 = f.131057, f.131369.0.0 = f.131369) %>%\n",
    "  mutate(\n",
    "    f.131056.0.0 = ifelse(!is.na(f.131057.0.0) & !is.na(DOB) & (DOB + years(30) <= as.Date(\"2020-01-01\")),\n",
    "      runif(sum(!is.na(f.131057.0.0)),\n",
    "        min = as.numeric(DOB + years(30)),\n",
    "        max = as.Date(\"2020-01-01\")\n",
    "      ),\n",
    "      NA\n",
    "    ),\n",
    "    f.131056.0.0 = as.Date(f.131056.0.0, origin = \"1970-01-01\"), # Assuming 1970 is the correct origin\n",
    "  ) %>%\n",
    "  mutate(\n",
    "    f.131368.0.0 = ifelse(!is.na(f.131369.0.0) & !is.na(DOB) & (DOB + years(40) <= as.Date(\"2020-01-01\")),\n",
    "      runif(sum(!is.na(f.131369.0.0)),\n",
    "        min = as.numeric(DOB + years(30)),\n",
    "        max = as.Date(\"2020-01-01\")\n",
    "      ),\n",
    "      NA\n",
    "    ),\n",
    "    f.131368.0.0 = as.Date(f.131368.0.0, origin = \"1970-01-01\"), # Assuming 1970 is the correct origin\n",
    "    f.31.0.0 = Sex,\n",
    "    f.33.0.0 = DOB\n",
    "  )\n"
   ]
  },
  {
   "cell_type": "markdown",
   "id": "87fdbeb4-0a47-43c5-b294-74699e90fb76",
   "metadata": {},
   "source": [
    "## generate PRS"
   ]
  },
  {
   "cell_type": "code",
   "execution_count": 250,
   "id": "4a4ef31f-5a73-4b72-b22b-1925c5a6d97a",
   "metadata": {
    "tags": []
   },
   "outputs": [
    {
     "data": {
      "text/html": [
       "<table class=\"dataframe\">\n",
       "<caption>A data.frame: 6 × 13</caption>\n",
       "<thead>\n",
       "\t<tr><th></th><th scope=col>ID</th><th scope=col>Sex</th><th scope=col>DOB</th><th scope=col>f.131057.0.0</th><th scope=col>f.131057.isvalid</th><th scope=col>f.131369.0.0</th><th scope=col>f.131056.0.0</th><th scope=col>f.131368.0.0</th><th scope=col>f.31.0.0</th><th scope=col>f.33.0.0</th><th scope=col>PRS</th><th scope=col>pheno_tia</th><th scope=col>tia_PRS</th></tr>\n",
       "\t<tr><th></th><th scope=col>&lt;int&gt;</th><th scope=col>&lt;int&gt;</th><th scope=col>&lt;date&gt;</th><th scope=col>&lt;dbl&gt;</th><th scope=col>&lt;dbl&gt;</th><th scope=col>&lt;dbl&gt;</th><th scope=col>&lt;date&gt;</th><th scope=col>&lt;date&gt;</th><th scope=col>&lt;int&gt;</th><th scope=col>&lt;date&gt;</th><th scope=col>&lt;dbl&gt;</th><th scope=col>&lt;dbl&gt;</th><th scope=col>&lt;dbl&gt;</th></tr>\n",
       "</thead>\n",
       "<tbody>\n",
       "\t<tr><th scope=row>1</th><td>963369</td><td>0</td><td>1969-04-16</td><td>51</td><td>1</td><td>40</td><td>2019-08-22</td><td>1999-08-29</td><td>0</td><td>1969-04-16</td><td>-0.14139846</td><td>1</td><td>0.4116704</td></tr>\n",
       "\t<tr><th scope=row>2</th><td>842309</td><td>0</td><td>1968-07-19</td><td>50</td><td>1</td><td>50</td><td>2007-01-21</td><td>2003-01-02</td><td>0</td><td>1968-07-19</td><td> 0.51098235</td><td>1</td><td>0.5617103</td></tr>\n",
       "\t<tr><th scope=row>3</th><td>529901</td><td>1</td><td>1948-06-15</td><td>40</td><td>1</td><td>50</td><td>1991-07-18</td><td>2012-09-17</td><td>1</td><td>1948-06-15</td><td>-0.07606185</td><td>1</td><td>0.4266970</td></tr>\n",
       "\t<tr><th scope=row>4</th><td>574707</td><td>1</td><td>1965-01-13</td><td>51</td><td>1</td><td>NA</td><td>2006-11-03</td><td>NA</td><td>1</td><td>1965-01-13</td><td> 1.08485976</td><td>1</td><td>0.6936953</td></tr>\n",
       "\t<tr><th scope=row>5</th><td>629476</td><td>0</td><td>1952-04-10</td><td>50</td><td>1</td><td>40</td><td>2019-12-12</td><td>2004-04-10</td><td>0</td><td>1952-04-10</td><td> 0.61504961</td><td>1</td><td>0.5856445</td></tr>\n",
       "\t<tr><th scope=row>6</th><td>208527</td><td>1</td><td>1956-03-01</td><td>50</td><td>1</td><td>50</td><td>2007-03-10</td><td>2009-08-28</td><td>1</td><td>1956-03-01</td><td> 1.06301586</td><td>1</td><td>0.6886714</td></tr>\n",
       "</tbody>\n",
       "</table>\n"
      ],
      "text/latex": [
       "A data.frame: 6 × 13\n",
       "\\begin{tabular}{r|lllllllllllll}\n",
       "  & ID & Sex & DOB & f.131057.0.0 & f.131057.isvalid & f.131369.0.0 & f.131056.0.0 & f.131368.0.0 & f.31.0.0 & f.33.0.0 & PRS & pheno\\_tia & tia\\_PRS\\\\\n",
       "  & <int> & <int> & <date> & <dbl> & <dbl> & <dbl> & <date> & <date> & <int> & <date> & <dbl> & <dbl> & <dbl>\\\\\n",
       "\\hline\n",
       "\t1 & 963369 & 0 & 1969-04-16 & 51 & 1 & 40 & 2019-08-22 & 1999-08-29 & 0 & 1969-04-16 & -0.14139846 & 1 & 0.4116704\\\\\n",
       "\t2 & 842309 & 0 & 1968-07-19 & 50 & 1 & 50 & 2007-01-21 & 2003-01-02 & 0 & 1968-07-19 &  0.51098235 & 1 & 0.5617103\\\\\n",
       "\t3 & 529901 & 1 & 1948-06-15 & 40 & 1 & 50 & 1991-07-18 & 2012-09-17 & 1 & 1948-06-15 & -0.07606185 & 1 & 0.4266970\\\\\n",
       "\t4 & 574707 & 1 & 1965-01-13 & 51 & 1 & NA & 2006-11-03 & NA & 1 & 1965-01-13 &  1.08485976 & 1 & 0.6936953\\\\\n",
       "\t5 & 629476 & 0 & 1952-04-10 & 50 & 1 & 40 & 2019-12-12 & 2004-04-10 & 0 & 1952-04-10 &  0.61504961 & 1 & 0.5856445\\\\\n",
       "\t6 & 208527 & 1 & 1956-03-01 & 50 & 1 & 50 & 2007-03-10 & 2009-08-28 & 1 & 1956-03-01 &  1.06301586 & 1 & 0.6886714\\\\\n",
       "\\end{tabular}\n"
      ],
      "text/markdown": [
       "\n",
       "A data.frame: 6 × 13\n",
       "\n",
       "| <!--/--> | ID &lt;int&gt; | Sex &lt;int&gt; | DOB &lt;date&gt; | f.131057.0.0 &lt;dbl&gt; | f.131057.isvalid &lt;dbl&gt; | f.131369.0.0 &lt;dbl&gt; | f.131056.0.0 &lt;date&gt; | f.131368.0.0 &lt;date&gt; | f.31.0.0 &lt;int&gt; | f.33.0.0 &lt;date&gt; | PRS &lt;dbl&gt; | pheno_tia &lt;dbl&gt; | tia_PRS &lt;dbl&gt; |\n",
       "|---|---|---|---|---|---|---|---|---|---|---|---|---|---|\n",
       "| 1 | 963369 | 0 | 1969-04-16 | 51 | 1 | 40 | 2019-08-22 | 1999-08-29 | 0 | 1969-04-16 | -0.14139846 | 1 | 0.4116704 |\n",
       "| 2 | 842309 | 0 | 1968-07-19 | 50 | 1 | 50 | 2007-01-21 | 2003-01-02 | 0 | 1968-07-19 |  0.51098235 | 1 | 0.5617103 |\n",
       "| 3 | 529901 | 1 | 1948-06-15 | 40 | 1 | 50 | 1991-07-18 | 2012-09-17 | 1 | 1948-06-15 | -0.07606185 | 1 | 0.4266970 |\n",
       "| 4 | 574707 | 1 | 1965-01-13 | 51 | 1 | NA | 2006-11-03 | NA | 1 | 1965-01-13 |  1.08485976 | 1 | 0.6936953 |\n",
       "| 5 | 629476 | 0 | 1952-04-10 | 50 | 1 | 40 | 2019-12-12 | 2004-04-10 | 0 | 1952-04-10 |  0.61504961 | 1 | 0.5856445 |\n",
       "| 6 | 208527 | 1 | 1956-03-01 | 50 | 1 | 50 | 2007-03-10 | 2009-08-28 | 1 | 1956-03-01 |  1.06301586 | 1 | 0.6886714 |\n",
       "\n"
      ],
      "text/plain": [
       "  ID     Sex DOB        f.131057.0.0 f.131057.isvalid f.131369.0.0 f.131056.0.0\n",
       "1 963369 0   1969-04-16 51           1                40           2019-08-22  \n",
       "2 842309 0   1968-07-19 50           1                50           2007-01-21  \n",
       "3 529901 1   1948-06-15 40           1                50           1991-07-18  \n",
       "4 574707 1   1965-01-13 51           1                NA           2006-11-03  \n",
       "5 629476 0   1952-04-10 50           1                40           2019-12-12  \n",
       "6 208527 1   1956-03-01 50           1                50           2007-03-10  \n",
       "  f.131368.0.0 f.31.0.0 f.33.0.0   PRS         pheno_tia tia_PRS  \n",
       "1 1999-08-29   0        1969-04-16 -0.14139846 1         0.4116704\n",
       "2 2003-01-02   0        1968-07-19  0.51098235 1         0.5617103\n",
       "3 2012-09-17   1        1948-06-15 -0.07606185 1         0.4266970\n",
       "4 <NA>         1        1965-01-13  1.08485976 1         0.6936953\n",
       "5 2004-04-10   0        1952-04-10  0.61504961 1         0.5856445\n",
       "6 2009-08-28   1        1956-03-01  1.06301586 1         0.6886714"
      ]
     },
     "metadata": {},
     "output_type": "display_data"
    }
   ],
   "source": [
    "toy_data_tia_PRS_cases <- toy_data %>% filter(!is.na(f.131056.0.0))\n",
    "toy_data_tia_PRS_ctrls <- toy_data %>% filter(is.na(f.131056.0.0))\n",
    "toy_data_tia_PRS_cases$PRS = rnorm(n=nrow(toy_data_tia_PRS_cases),mean=0.45,sd=0.3)\n",
    "toy_data_tia_PRS_cases$pheno_tia=1\n",
    "toy_data_tia_PRS_ctrls$PRS = rnorm(n=nrow(toy_data_tia_PRS_ctrls),mean=0.3,sd=0.5)\n",
    "toy_data_tia_PRS_ctrls$pheno_tia=0\n",
    "\n",
    "toy_data_tia_PRS = rbind(toy_data_tia_PRS_cases,toy_data_tia_PRS_ctrls)\n",
    "\n",
    "min_max_normalize <- function(x) {\n",
    "  (x - min(x, na.rm = TRUE)) / (max(x, na.rm = TRUE) - min(x, na.rm = TRUE))\n",
    "}\n",
    "\n",
    "# Normalize the specified column\n",
    "toy_data_tia_PRS$tia_PRS <- min_max_normalize(toy_data_tia_PRS$PRS)\n",
    "head(toy_data_tia_PRS)\n",
    "# toy_data_PRS <- toy_data_PRS %>% select(ID, PRS"
   ]
  },
  {
   "cell_type": "code",
   "execution_count": 251,
   "id": "ad62c929-72b7-4da0-aacb-b525b4c55db3",
   "metadata": {
    "tags": []
   },
   "outputs": [
    {
     "data": {
      "text/html": [
       "<table class=\"dataframe\">\n",
       "<caption>A data.frame: 6 × 3</caption>\n",
       "<thead>\n",
       "\t<tr><th></th><th scope=col>ID</th><th scope=col>TIA_PRS</th><th scope=col>stroke_PRS</th></tr>\n",
       "\t<tr><th></th><th scope=col>&lt;int&gt;</th><th scope=col>&lt;dbl&gt;</th><th scope=col>&lt;dbl&gt;</th></tr>\n",
       "</thead>\n",
       "<tbody>\n",
       "\t<tr><th scope=row>1</th><td>100002</td><td>0.4009851</td><td>0.5381859</td></tr>\n",
       "\t<tr><th scope=row>2</th><td>100019</td><td>0.4319185</td><td>0.3099913</td></tr>\n",
       "\t<tr><th scope=row>3</th><td>100022</td><td>0.2939481</td><td>0.6268519</td></tr>\n",
       "\t<tr><th scope=row>4</th><td>100032</td><td>0.4782520</td><td>0.2041085</td></tr>\n",
       "\t<tr><th scope=row>5</th><td>100044</td><td>0.5767427</td><td>0.5621193</td></tr>\n",
       "\t<tr><th scope=row>6</th><td>100065</td><td>0.4148183</td><td>0.5223945</td></tr>\n",
       "</tbody>\n",
       "</table>\n"
      ],
      "text/latex": [
       "A data.frame: 6 × 3\n",
       "\\begin{tabular}{r|lll}\n",
       "  & ID & TIA\\_PRS & stroke\\_PRS\\\\\n",
       "  & <int> & <dbl> & <dbl>\\\\\n",
       "\\hline\n",
       "\t1 & 100002 & 0.4009851 & 0.5381859\\\\\n",
       "\t2 & 100019 & 0.4319185 & 0.3099913\\\\\n",
       "\t3 & 100022 & 0.2939481 & 0.6268519\\\\\n",
       "\t4 & 100032 & 0.4782520 & 0.2041085\\\\\n",
       "\t5 & 100044 & 0.5767427 & 0.5621193\\\\\n",
       "\t6 & 100065 & 0.4148183 & 0.5223945\\\\\n",
       "\\end{tabular}\n"
      ],
      "text/markdown": [
       "\n",
       "A data.frame: 6 × 3\n",
       "\n",
       "| <!--/--> | ID &lt;int&gt; | TIA_PRS &lt;dbl&gt; | stroke_PRS &lt;dbl&gt; |\n",
       "|---|---|---|---|\n",
       "| 1 | 100002 | 0.4009851 | 0.5381859 |\n",
       "| 2 | 100019 | 0.4319185 | 0.3099913 |\n",
       "| 3 | 100022 | 0.2939481 | 0.6268519 |\n",
       "| 4 | 100032 | 0.4782520 | 0.2041085 |\n",
       "| 5 | 100044 | 0.5767427 | 0.5621193 |\n",
       "| 6 | 100065 | 0.4148183 | 0.5223945 |\n",
       "\n"
      ],
      "text/plain": [
       "  ID     TIA_PRS   stroke_PRS\n",
       "1 100002 0.4009851 0.5381859 \n",
       "2 100019 0.4319185 0.3099913 \n",
       "3 100022 0.2939481 0.6268519 \n",
       "4 100032 0.4782520 0.2041085 \n",
       "5 100044 0.5767427 0.5621193 \n",
       "6 100065 0.4148183 0.5223945 "
      ]
     },
     "metadata": {},
     "output_type": "display_data"
    }
   ],
   "source": [
    "toy_data_stroke_PRS_cases <- toy_data %>% filter(!is.na(f.131368.0.0))\n",
    "toy_data_stroke_PRS_ctrls <- toy_data %>% filter(is.na(f.131368.0.0))\n",
    "toy_data_stroke_PRS_cases$PRS <- rnorm(n = nrow(toy_data_stroke_PRS_cases), mean = 0.6, sd = 0.3)\n",
    "toy_data_stroke_PRS_cases$pheno_stroke <- 1\n",
    "toy_data_stroke_PRS_ctrls$PRS <- rnorm(n = nrow(toy_data_stroke_PRS_ctrls), mean = 0.2, sd = 0.5)\n",
    "toy_data_stroke_PRS_ctrls$pheno_stroke <- 0\n",
    "\n",
    "toy_data_stroke_PRS <- rbind(toy_data_stroke_PRS_cases, toy_data_stroke_PRS_ctrls)\n",
    "\n",
    "# Normalize the specified column\n",
    "toy_data_stroke_PRS$stroke_PRS <- min_max_normalize(toy_data_stroke_PRS$PRS)\n",
    "\n",
    "toy_data_stroke_PRS <- toy_data_stroke_PRS %>% select(ID, stroke_PRS)\n",
    "\n",
    "toy_data_PRS <- merge(toy_data_tia_PRS, toy_data_stroke_PRS, by=\"ID\") %>% select(ID, tia_PRS, stroke_PRS) %>% rename(TIA_PRS=tia_PRS)\n",
    "head(toy_data_PRS)\n",
    "# toy_data_PRS <- toy_data_PRS %>% select(ID, "
   ]
  },
  {
   "cell_type": "code",
   "execution_count": 252,
   "id": "233d4a71-f2ba-4abf-b5a1-77a8795644b8",
   "metadata": {
    "tags": []
   },
   "outputs": [],
   "source": [
    "write.table(toy_data, file = \"~/student_test_2024/data/toy_data.tsv\", sep = \"\\t\", quote = FALSE, row.names = FALSE)\n",
    "write.table(toy_data_PRS, file = \"~/student_test_2024/data/toy_data_PRS.tsv\", sep = \"\\t\", quote = FALSE, row.names = FALSE)"
   ]
  },
  {
   "cell_type": "code",
   "execution_count": null,
   "id": "75b64ba9-f779-4015-bc64-c6f70ee505d4",
   "metadata": {},
   "outputs": [],
   "source": []
  }
 ],
 "metadata": {
  "kernelspec": {
   "display_name": "R",
   "language": "R",
   "name": "ir"
  },
  "language_info": {
   "codemirror_mode": "r",
   "file_extension": ".r",
   "mimetype": "text/x-r-source",
   "name": "R",
   "pygments_lexer": "r",
   "version": "4.3.1"
  }
 },
 "nbformat": 4,
 "nbformat_minor": 5
}
